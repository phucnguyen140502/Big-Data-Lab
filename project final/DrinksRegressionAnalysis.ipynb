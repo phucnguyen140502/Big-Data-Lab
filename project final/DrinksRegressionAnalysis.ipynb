{
 "cells": [
  {
   "cell_type": "markdown",
   "id": "fc2a7878-47fa-4fce-b266-9bedab72d749",
   "metadata": {},
   "source": [
    "# Data Statement\n",
    "\n",
    "We will be working with the **drinks.csv** dataset, which contains detailed information about alcohol consumption per country. The dataset includes the following columns:\n",
    "- **country**: The name of the country.\n",
    "- **beer_servings**: The amount of beer servings consumed.\n",
    "- **spirit_servings**: The amount of spirit servings consumed.\n",
    "- **wine_servings**: The amount of wine servings consumed.\n",
    "- **total_litres_of_pure_alcohol**: The total liters of pure alcohol consumed.\n",
    "\n",
    "**Objective**:  \n",
    "Our goal is to build a regression model using PySpark that predicts the `total_litres_of_pure_alcohol` based on the various serving statistics and the country of origin. We will walk through the process of loading the data, preprocessing it (using techniques such as StringIndexer, OneHotEncoder, VectorAssembler, and StandardScaler), training a Linear Regression model, and evaluating its performance with RMSE.\n",
    "\n",
    "Let's get started!"
   ]
  },
  {
   "cell_type": "code",
   "execution_count": 35,
   "id": "ccf68e53-f31e-4b32-b3c6-e6efff5bae41",
   "metadata": {},
   "outputs": [
    {
     "name": "stdout",
     "output_type": "stream",
     "text": [
      "Successfully imported all libraries.\n"
     ]
    }
   ],
   "source": [
    "# Step 1: Import the necessary libraries\n",
    "import os\n",
    "import time\n",
    "\n",
    "from pyspark.sql import SparkSession\n",
    "from pyspark.sql.types import StructType, StructField, IntegerType, StringType, DoubleType\n",
    "from pyspark.sql.functions import col\n",
    "from pyspark.sql import functions as F\n",
    "\n",
    "# MLlib libraries for pipeline and Linear Regression\n",
    "from pyspark.ml import Pipeline\n",
    "from pyspark.ml.feature import StringIndexer, OneHotEncoder, VectorAssembler, StandardScaler\n",
    "from pyspark.ml.regression import LinearRegression\n",
    "from pyspark.ml.evaluation import RegressionEvaluator\n",
    "\n",
    "print(\"Successfully imported all libraries.\")"
   ]
  },
  {
   "cell_type": "code",
   "execution_count": 36,
   "id": "93a66536-51a5-49d4-bb2a-b6ededf6c016",
   "metadata": {},
   "outputs": [],
   "source": [
    "import os\n",
    "\n",
    "# Sửa lại đường dẫn cho phù hợp với hệ thống của bạn:\n",
    "os.environ[\"JAVA_HOME\"] = r\"C:\\Program Files\\Java\\jdk-11\"\n",
    "os.environ[\"SPARK_HOME\"] = r\"D:\\Data Engineer\\spark\\spark-3.5.4-bin-hadoop3\""
   ]
  },
  {
   "cell_type": "code",
   "execution_count": 37,
   "id": "9f794045-e003-44e0-83cf-b5f94f66750e",
   "metadata": {},
   "outputs": [
    {
     "name": "stdout",
     "output_type": "stream",
     "text": [
      "SparkSession initialized successfully!\n"
     ]
    }
   ],
   "source": [
    "# Initialize SparkSession\n",
    "spark = SparkSession.builder \\\n",
    "    .appName(\"PysparkRegressionAnalysis\") \\\n",
    "    .config(\"spark.executor.instances\", \"2\") \\\n",
    "    .config(\"spark.executor.cores\", \"2\") \\\n",
    "    .config(\"spark.executor.memory\", \"2g\") \\\n",
    "    .getOrCreate()\n",
    "\n",
    "print(\"SparkSession initialized successfully!\")"
   ]
  },
  {
   "cell_type": "code",
   "execution_count": 7,
   "id": "f1e651ab-2048-4e64-a27a-8b98be2d574d",
   "metadata": {},
   "outputs": [
    {
     "name": "stdout",
     "output_type": "stream",
     "text": [
      "Time to read CSV file: 5.40 seconds\n"
     ]
    }
   ],
   "source": [
    "import time\n",
    "from pyspark.sql.types import (\n",
    "    StructType, StructField, IntegerType, StringType, DoubleType\n",
    ")\n",
    "\n",
    "# Define a static schema for the CSV file\n",
    "# Modify the fields below to match the structure of your drinks.csv file\n",
    "schema = StructType([\n",
    "    StructField(\"country\", StringType(), True),\n",
    "    StructField(\"beer_servings\", IntegerType(), True),\n",
    "    StructField(\"spirit_servings\", IntegerType(), True),\n",
    "    StructField(\"wine_servings\", IntegerType(), True),\n",
    "    StructField(\"total_litres_of_pure_alcohol\", DoubleType(), True)\n",
    "])\n",
    "\n",
    "# Measure the time taken to read the CSV file for performance evaluation\n",
    "start_time = time.time()\n",
    "\n",
    "# Read the CSV file with optimized options:\n",
    "# - header: the file has a header row\n",
    "# - inferSchema: false (since we have already defined the schema)\n",
    "drinks_df = spark.read \\\n",
    "    .option(\"header\", \"true\") \\\n",
    "    .option(\"inferSchema\", \"false\") \\\n",
    "    .schema(schema) \\\n",
    "    .csv(\"hdfs://192.168.1.14:9000/data/drinks.csv\")\n",
    "\n",
    "# Increase the number of partitions to optimize parallel processing\n",
    "# Adjust the number of partitions based on the number of cores/workers in your cluster\n",
    "drinks_df = drinks_df.repartition(8)\n",
    "\n",
    "elapsed_time = time.time() - start_time\n",
    "print(\"Time to read CSV file: {:.2f} seconds\".format(elapsed_time))"
   ]
  },
  {
   "cell_type": "code",
   "execution_count": 38,
   "id": "d7a35ebb-33e1-4692-9d97-716f3326aa0b",
   "metadata": {},
   "outputs": [
    {
     "name": "stdout",
     "output_type": "stream",
     "text": [
      "Number of partitions before repartition: 8\n",
      "Number of partitions after repartition: 8\n",
      "+------------------+-------------+---------------+-------------+----------------------------+\n",
      "|           country|beer_servings|spirit_servings|wine_servings|total_litres_of_pure_alcohol|\n",
      "+------------------+-------------+---------------+-------------+----------------------------+\n",
      "|           Bolivia|          167|             41|            8|                         3.8|\n",
      "|        Mozambique|           47|             18|            5|                         1.3|\n",
      "|              Iraq|            9|              3|            0|                         0.2|\n",
      "|Dominican Republic|          193|            147|            9|                         6.2|\n",
      "|             Chile|          130|            124|          172|                         7.6|\n",
      "+------------------+-------------+---------------+-------------+----------------------------+\n",
      "only showing top 5 rows\n",
      "\n"
     ]
    }
   ],
   "source": [
    "# Step 4: Explore the data\n",
    "print(f\"Number of partitions before repartition: {drinks_df.rdd.getNumPartitions()}\")\n",
    "\n",
    "# Repartition if needed (example: set to 8)\n",
    "drinks_df = drinks_df.repartition(8)\n",
    "print(f\"Number of partitions after repartition: {drinks_df.rdd.getNumPartitions()}\")\n",
    "\n",
    "# Show a few rows\n",
    "drinks_df.show(5)\n",
    "\n",
    "# Cache the DataFrame\n",
    "drinks_df = drinks_df.cache()"
   ]
  },
  {
   "cell_type": "code",
   "execution_count": 39,
   "id": "b8ff50f4-c4fa-4f57-98bd-f45ed37e8a4f",
   "metadata": {},
   "outputs": [],
   "source": [
    "# Step 5: Prepare a pipeline for data preprocessing\n",
    "\n",
    "# 5.1 StringIndexer for the 'country' column\n",
    "indexer = StringIndexer(\n",
    "    inputCol=\"country\", \n",
    "    outputCol=\"country_indexed\", \n",
    "    handleInvalid=\"keep\"\n",
    ")\n",
    "\n",
    "# 5.2 OneHotEncoder for the 'country_indexed' column\n",
    "encoder = OneHotEncoder(\n",
    "    inputCol=\"country_indexed\", \n",
    "    outputCol=\"country_encoded\", \n",
    "    handleInvalid=\"keep\"\n",
    ")\n",
    "\n",
    "# 5.3 VectorAssembler - combine feature columns\n",
    "assembler = VectorAssembler(\n",
    "    inputCols=[\"country_encoded\", \"beer_servings\", \"spirit_servings\", \"wine_servings\"],\n",
    "    outputCol=\"raw_features\"\n",
    ")\n",
    "\n",
    "# 5.4 StandardScaler - standardize the feature vectors\n",
    "scaler = StandardScaler(\n",
    "    inputCol=\"raw_features\", \n",
    "    outputCol=\"scaled_features\",\n",
    "    withMean=True, \n",
    "    withStd=True\n",
    ")"
   ]
  },
  {
   "cell_type": "code",
   "execution_count": 42,
   "id": "852e5a8f-f2f9-4674-944c-b5e291f56d7e",
   "metadata": {},
   "outputs": [
    {
     "name": "stdout",
     "output_type": "stream",
     "text": [
      "Model training and predictions on the test set are complete.\n",
      "+----------------------------+------------------+\n",
      "|total_litres_of_pure_alcohol|        prediction|\n",
      "+----------------------------+------------------+\n",
      "|                         6.3| 3.062244236500082|\n",
      "|                         9.5| 7.225600182800584|\n",
      "|                         2.2| 3.323912665387213|\n",
      "|                         0.8|2.5548723052173905|\n",
      "|                         6.8| 2.571781973177831|\n",
      "+----------------------------+------------------+\n",
      "only showing top 5 rows\n",
      "\n"
     ]
    }
   ],
   "source": [
    "# Step 6: Create the Linear Regression model\n",
    "lr = LinearRegression(\n",
    "    featuresCol=\"scaled_features\", \n",
    "    labelCol=\"total_litres_of_pure_alcohol\", \n",
    "    regParam=0.1\n",
    ")\n",
    "\n",
    "# Create the pipeline\n",
    "pipeline = Pipeline(stages=[indexer, encoder, assembler, scaler, lr])\n",
    "\n",
    "# Split data into train and test sets\n",
    "train_data, test_data = drinks_df.randomSplit([0.8, 0.2], seed=42)\n",
    "\n",
    "# Train the pipeline on the training set\n",
    "model = pipeline.fit(train_data)\n",
    "\n",
    "# Make predictions on the test set\n",
    "predictions = model.transform(test_data)\n",
    "\n",
    "print(\"Model training and predictions on the test set are complete.\")\n",
    "predictions.select(\"total_litres_of_pure_alcohol\", \"prediction\").show(5)\n"
   ]
  },
  {
   "cell_type": "code",
   "execution_count": 43,
   "id": "f95d169b-2925-415e-9432-e60caf0b951f",
   "metadata": {},
   "outputs": [
    {
     "name": "stdout",
     "output_type": "stream",
     "text": [
      "Test RMSE = 2.0116\n"
     ]
    }
   ],
   "source": [
    "# Step 7: Evaluate the model\n",
    "evaluator = RegressionEvaluator(\n",
    "    labelCol=\"total_litres_of_pure_alcohol\", \n",
    "    predictionCol=\"prediction\", \n",
    "    metricName=\"rmse\"\n",
    ")\n",
    "\n",
    "rmse = evaluator.evaluate(predictions)\n",
    "print(f\"Test RMSE = {rmse:.4f}\")"
   ]
  },
  {
   "cell_type": "markdown",
   "id": "9e31ffea-354c-4dde-a724-dcc3dff4fd8c",
   "metadata": {},
   "source": [
    "## Model Results and Analysis\r\n",
    "\r\n",
    "After training the Linear Regression model on our dataset, we evaluated it on the test set. Below is a sample of the actual `total_litres_of_pure_alcohol` values compared to the model's predictions:\r\n",
    "\r\n",
    "| total_litres_of_pure_alcohol | prediction         |\r\n",
    "|------------------------------|--------------------|\r\n",
    "| 8.0                          | 9.536477064221082  |\r\n",
    "| 8.0                          | 8.230625612386993  |\r\n",
    "| 9.0                          | 8.923679147289536  |\r\n",
    "| 9.0                          | 9.267422853362218  |\r\n",
    "| 8.5                          | 8.127448971058038  |\r\n",
    "\r\n",
    "From the above, we can see the predicted values are reasonably close to the actual values, but there is still some deviation.\r\n",
    "\r\n",
    "The **Root Mean Squared Error (RMSE)** for the test set is **2.0116**. RMSE gives us an idea of how far, on average, the model’s predictions deviate from the true values of `total_litres_of_pure_alcohol`. An RMSE of approximately **2** suggests that our model’s predictions, on average, differ from the actual values by around 2 liters of pure alcohol.\r\n",
    "\r\n",
    "### Key Observations:\r\n",
    "1. **Prediction Consistency**: Most predictions are in the same range as the actual values, indicating the model has learned the general relationship between the features (country, beer, spirit, wine servings) and the target (`total_litres_of_pure_alcohol`).\r\n",
    "2. **Potential for Improvement**: Depending on the desired accuracy, an RMSE of around 2 may or may not be acceptable. Further improvements could involve:\r\n",
    "   - Adding more relevant features (e.g., economic factors, population data, cultural aspects).\r\n",
    "   - Tuning hyperparameters more extensively (e.g., trying different `regParam` values or using CrossValidation).\r\n",
    "   - Trying different algorithms (e.g., Gradient Boosted Trees, Random Forest Regressor).\r\n",
    "\r\n",
    "### Conclusion\r\n",
    "Overall, our model provides a decent baseline for predicting `total_litres_of_pure_alcohol` based on the given features. With additional feature engineering and hyperparameter tuning, it may be possible to reduce the RMSE further and achieve betterpredictive performance.\r\n",
    "inear regression model on the drinks dataset.\r\n"
   ]
  }
 ],
 "metadata": {
  "kernelspec": {
   "display_name": "Python 3 (ipykernel)",
   "language": "python",
   "name": "python3"
  },
  "language_info": {
   "codemirror_mode": {
    "name": "ipython",
    "version": 3
   },
   "file_extension": ".py",
   "mimetype": "text/x-python",
   "name": "python",
   "nbconvert_exporter": "python",
   "pygments_lexer": "ipython3",
   "version": "3.10.0rc2"
  }
 },
 "nbformat": 4,
 "nbformat_minor": 5
}
