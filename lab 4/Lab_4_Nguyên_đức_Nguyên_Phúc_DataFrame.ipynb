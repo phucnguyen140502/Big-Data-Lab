{
  "nbformat": 4,
  "nbformat_minor": 0,
  "metadata": {
    "colab": {
      "provenance": []
    },
    "kernelspec": {
      "name": "python3",
      "display_name": "Python 3"
    },
    "language_info": {
      "name": "python"
    }
  },
  "cells": [
    {
      "cell_type": "code",
      "execution_count": 1,
      "metadata": {
        "colab": {
          "base_uri": "https://localhost:8080/"
        },
        "id": "2JeLpeGmLZLj",
        "outputId": "9cfb0dc6-63f4-41c8-e963-551fbdcc6a94"
      },
      "outputs": [
        {
          "output_type": "stream",
          "name": "stdout",
          "text": [
            "Requirement already satisfied: pyspark in /usr/local/lib/python3.11/dist-packages (3.5.4)\n",
            "Requirement already satisfied: py4j==0.10.9.7 in /usr/local/lib/python3.11/dist-packages (from pyspark) (0.10.9.7)\n",
            "Collecting findspark\n",
            "  Downloading findspark-2.0.1-py2.py3-none-any.whl.metadata (352 bytes)\n",
            "Downloading findspark-2.0.1-py2.py3-none-any.whl (4.4 kB)\n",
            "Installing collected packages: findspark\n",
            "Successfully installed findspark-2.0.1\n"
          ]
        }
      ],
      "source": [
        "!pip install pyspark\n",
        "!pip install findspark"
      ]
    },
    {
      "cell_type": "code",
      "source": [
        "import findspark\n",
        "findspark.init()\n",
        "\n",
        "from pyspark.sql import SparkSession\n",
        "spark = SparkSession.builder.appName(\"PySpark_Exercises\").getOrCreate()\n",
        "\n",
        "print(\"SparkSession is active and ready to use.\")"
      ],
      "metadata": {
        "colab": {
          "base_uri": "https://localhost:8080/"
        },
        "id": "iHrnXyiVL7Iv",
        "outputId": "c488a1f5-4787-499c-8014-61a6c0b28770"
      },
      "execution_count": 22,
      "outputs": [
        {
          "output_type": "stream",
          "name": "stdout",
          "text": [
            "SparkSession is active and ready to use.\n"
          ]
        }
      ]
    },
    {
      "cell_type": "code",
      "source": [
        "import pandas as pd\n",
        "\n",
        "# Đọc dữ liệu từ nguồn trực tuyến\n",
        "url = 'https://cf-courses-data.s3.us.cloud-object-storage.appdomain.cloud/KpHDlIzdtR63BdTofl1mOg/owid-covid-latest.csv'\n",
        "vaccination_data = pd.read_csv(url)\n",
        "\n",
        "# Hiển thị 5 dòng đầu tiên\n",
        "vaccination_data.head()"
      ],
      "metadata": {
        "colab": {
          "base_uri": "https://localhost:8080/",
          "height": 273
        },
        "id": "N50M6O_YL-d5",
        "outputId": "280ee79c-38c8-4015-a06f-d083e130658a"
      },
      "execution_count": 23,
      "outputs": [
        {
          "output_type": "execute_result",
          "data": {
            "text/plain": [
              "   iso_code continent        location last_updated_date  total_cases  \\\n",
              "0       AFG      Asia     Afghanistan        2024-08-04     235214.0   \n",
              "1  OWID_AFR       NaN          Africa        2024-08-04   13145380.0   \n",
              "2       ALB    Europe         Albania        2024-08-04     335047.0   \n",
              "3       DZA    Africa         Algeria        2024-08-04     272139.0   \n",
              "4       ASM   Oceania  American Samoa        2024-08-04       8359.0   \n",
              "\n",
              "   new_cases  new_cases_smoothed  total_deaths  new_deaths  \\\n",
              "0        0.0               0.000        7998.0         0.0   \n",
              "1       36.0               5.143      259117.0         0.0   \n",
              "2        0.0               0.000        3605.0         0.0   \n",
              "3       18.0               2.571        6881.0         0.0   \n",
              "4        0.0               0.000          34.0         0.0   \n",
              "\n",
              "   new_deaths_smoothed  ...  male_smokers  handwashing_facilities  \\\n",
              "0                  0.0  ...           NaN                  37.746   \n",
              "1                  0.0  ...           NaN                     NaN   \n",
              "2                  0.0  ...          51.2                     NaN   \n",
              "3                  0.0  ...          30.4                  83.741   \n",
              "4                  0.0  ...           NaN                     NaN   \n",
              "\n",
              "   hospital_beds_per_thousand  life_expectancy  human_development_index  \\\n",
              "0                        0.50            64.83                    0.511   \n",
              "1                         NaN              NaN                      NaN   \n",
              "2                        2.89            78.57                    0.795   \n",
              "3                        1.90            76.88                    0.748   \n",
              "4                         NaN            73.74                      NaN   \n",
              "\n",
              "     population  excess_mortality_cumulative_absolute  \\\n",
              "0  4.112877e+07                                   NaN   \n",
              "1  1.426737e+09                                   NaN   \n",
              "2  2.842318e+06                                   NaN   \n",
              "3  4.490323e+07                                   NaN   \n",
              "4  4.429500e+04                                   NaN   \n",
              "\n",
              "   excess_mortality_cumulative  excess_mortality  \\\n",
              "0                          NaN               NaN   \n",
              "1                          NaN               NaN   \n",
              "2                          NaN               NaN   \n",
              "3                          NaN               NaN   \n",
              "4                          NaN               NaN   \n",
              "\n",
              "   excess_mortality_cumulative_per_million  \n",
              "0                                      NaN  \n",
              "1                                      NaN  \n",
              "2                                      NaN  \n",
              "3                                      NaN  \n",
              "4                                      NaN  \n",
              "\n",
              "[5 rows x 67 columns]"
            ],
            "text/html": [
              "\n",
              "  <div id=\"df-bb6dc2d8-2cc8-413f-a384-716cae0acac0\" class=\"colab-df-container\">\n",
              "    <div>\n",
              "<style scoped>\n",
              "    .dataframe tbody tr th:only-of-type {\n",
              "        vertical-align: middle;\n",
              "    }\n",
              "\n",
              "    .dataframe tbody tr th {\n",
              "        vertical-align: top;\n",
              "    }\n",
              "\n",
              "    .dataframe thead th {\n",
              "        text-align: right;\n",
              "    }\n",
              "</style>\n",
              "<table border=\"1\" class=\"dataframe\">\n",
              "  <thead>\n",
              "    <tr style=\"text-align: right;\">\n",
              "      <th></th>\n",
              "      <th>iso_code</th>\n",
              "      <th>continent</th>\n",
              "      <th>location</th>\n",
              "      <th>last_updated_date</th>\n",
              "      <th>total_cases</th>\n",
              "      <th>new_cases</th>\n",
              "      <th>new_cases_smoothed</th>\n",
              "      <th>total_deaths</th>\n",
              "      <th>new_deaths</th>\n",
              "      <th>new_deaths_smoothed</th>\n",
              "      <th>...</th>\n",
              "      <th>male_smokers</th>\n",
              "      <th>handwashing_facilities</th>\n",
              "      <th>hospital_beds_per_thousand</th>\n",
              "      <th>life_expectancy</th>\n",
              "      <th>human_development_index</th>\n",
              "      <th>population</th>\n",
              "      <th>excess_mortality_cumulative_absolute</th>\n",
              "      <th>excess_mortality_cumulative</th>\n",
              "      <th>excess_mortality</th>\n",
              "      <th>excess_mortality_cumulative_per_million</th>\n",
              "    </tr>\n",
              "  </thead>\n",
              "  <tbody>\n",
              "    <tr>\n",
              "      <th>0</th>\n",
              "      <td>AFG</td>\n",
              "      <td>Asia</td>\n",
              "      <td>Afghanistan</td>\n",
              "      <td>2024-08-04</td>\n",
              "      <td>235214.0</td>\n",
              "      <td>0.0</td>\n",
              "      <td>0.000</td>\n",
              "      <td>7998.0</td>\n",
              "      <td>0.0</td>\n",
              "      <td>0.0</td>\n",
              "      <td>...</td>\n",
              "      <td>NaN</td>\n",
              "      <td>37.746</td>\n",
              "      <td>0.50</td>\n",
              "      <td>64.83</td>\n",
              "      <td>0.511</td>\n",
              "      <td>4.112877e+07</td>\n",
              "      <td>NaN</td>\n",
              "      <td>NaN</td>\n",
              "      <td>NaN</td>\n",
              "      <td>NaN</td>\n",
              "    </tr>\n",
              "    <tr>\n",
              "      <th>1</th>\n",
              "      <td>OWID_AFR</td>\n",
              "      <td>NaN</td>\n",
              "      <td>Africa</td>\n",
              "      <td>2024-08-04</td>\n",
              "      <td>13145380.0</td>\n",
              "      <td>36.0</td>\n",
              "      <td>5.143</td>\n",
              "      <td>259117.0</td>\n",
              "      <td>0.0</td>\n",
              "      <td>0.0</td>\n",
              "      <td>...</td>\n",
              "      <td>NaN</td>\n",
              "      <td>NaN</td>\n",
              "      <td>NaN</td>\n",
              "      <td>NaN</td>\n",
              "      <td>NaN</td>\n",
              "      <td>1.426737e+09</td>\n",
              "      <td>NaN</td>\n",
              "      <td>NaN</td>\n",
              "      <td>NaN</td>\n",
              "      <td>NaN</td>\n",
              "    </tr>\n",
              "    <tr>\n",
              "      <th>2</th>\n",
              "      <td>ALB</td>\n",
              "      <td>Europe</td>\n",
              "      <td>Albania</td>\n",
              "      <td>2024-08-04</td>\n",
              "      <td>335047.0</td>\n",
              "      <td>0.0</td>\n",
              "      <td>0.000</td>\n",
              "      <td>3605.0</td>\n",
              "      <td>0.0</td>\n",
              "      <td>0.0</td>\n",
              "      <td>...</td>\n",
              "      <td>51.2</td>\n",
              "      <td>NaN</td>\n",
              "      <td>2.89</td>\n",
              "      <td>78.57</td>\n",
              "      <td>0.795</td>\n",
              "      <td>2.842318e+06</td>\n",
              "      <td>NaN</td>\n",
              "      <td>NaN</td>\n",
              "      <td>NaN</td>\n",
              "      <td>NaN</td>\n",
              "    </tr>\n",
              "    <tr>\n",
              "      <th>3</th>\n",
              "      <td>DZA</td>\n",
              "      <td>Africa</td>\n",
              "      <td>Algeria</td>\n",
              "      <td>2024-08-04</td>\n",
              "      <td>272139.0</td>\n",
              "      <td>18.0</td>\n",
              "      <td>2.571</td>\n",
              "      <td>6881.0</td>\n",
              "      <td>0.0</td>\n",
              "      <td>0.0</td>\n",
              "      <td>...</td>\n",
              "      <td>30.4</td>\n",
              "      <td>83.741</td>\n",
              "      <td>1.90</td>\n",
              "      <td>76.88</td>\n",
              "      <td>0.748</td>\n",
              "      <td>4.490323e+07</td>\n",
              "      <td>NaN</td>\n",
              "      <td>NaN</td>\n",
              "      <td>NaN</td>\n",
              "      <td>NaN</td>\n",
              "    </tr>\n",
              "    <tr>\n",
              "      <th>4</th>\n",
              "      <td>ASM</td>\n",
              "      <td>Oceania</td>\n",
              "      <td>American Samoa</td>\n",
              "      <td>2024-08-04</td>\n",
              "      <td>8359.0</td>\n",
              "      <td>0.0</td>\n",
              "      <td>0.000</td>\n",
              "      <td>34.0</td>\n",
              "      <td>0.0</td>\n",
              "      <td>0.0</td>\n",
              "      <td>...</td>\n",
              "      <td>NaN</td>\n",
              "      <td>NaN</td>\n",
              "      <td>NaN</td>\n",
              "      <td>73.74</td>\n",
              "      <td>NaN</td>\n",
              "      <td>4.429500e+04</td>\n",
              "      <td>NaN</td>\n",
              "      <td>NaN</td>\n",
              "      <td>NaN</td>\n",
              "      <td>NaN</td>\n",
              "    </tr>\n",
              "  </tbody>\n",
              "</table>\n",
              "<p>5 rows × 67 columns</p>\n",
              "</div>\n",
              "    <div class=\"colab-df-buttons\">\n",
              "\n",
              "  <div class=\"colab-df-container\">\n",
              "    <button class=\"colab-df-convert\" onclick=\"convertToInteractive('df-bb6dc2d8-2cc8-413f-a384-716cae0acac0')\"\n",
              "            title=\"Convert this dataframe to an interactive table.\"\n",
              "            style=\"display:none;\">\n",
              "\n",
              "  <svg xmlns=\"http://www.w3.org/2000/svg\" height=\"24px\" viewBox=\"0 -960 960 960\">\n",
              "    <path d=\"M120-120v-720h720v720H120Zm60-500h600v-160H180v160Zm220 220h160v-160H400v160Zm0 220h160v-160H400v160ZM180-400h160v-160H180v160Zm440 0h160v-160H620v160ZM180-180h160v-160H180v160Zm440 0h160v-160H620v160Z\"/>\n",
              "  </svg>\n",
              "    </button>\n",
              "\n",
              "  <style>\n",
              "    .colab-df-container {\n",
              "      display:flex;\n",
              "      gap: 12px;\n",
              "    }\n",
              "\n",
              "    .colab-df-convert {\n",
              "      background-color: #E8F0FE;\n",
              "      border: none;\n",
              "      border-radius: 50%;\n",
              "      cursor: pointer;\n",
              "      display: none;\n",
              "      fill: #1967D2;\n",
              "      height: 32px;\n",
              "      padding: 0 0 0 0;\n",
              "      width: 32px;\n",
              "    }\n",
              "\n",
              "    .colab-df-convert:hover {\n",
              "      background-color: #E2EBFA;\n",
              "      box-shadow: 0px 1px 2px rgba(60, 64, 67, 0.3), 0px 1px 3px 1px rgba(60, 64, 67, 0.15);\n",
              "      fill: #174EA6;\n",
              "    }\n",
              "\n",
              "    .colab-df-buttons div {\n",
              "      margin-bottom: 4px;\n",
              "    }\n",
              "\n",
              "    [theme=dark] .colab-df-convert {\n",
              "      background-color: #3B4455;\n",
              "      fill: #D2E3FC;\n",
              "    }\n",
              "\n",
              "    [theme=dark] .colab-df-convert:hover {\n",
              "      background-color: #434B5C;\n",
              "      box-shadow: 0px 1px 3px 1px rgba(0, 0, 0, 0.15);\n",
              "      filter: drop-shadow(0px 1px 2px rgba(0, 0, 0, 0.3));\n",
              "      fill: #FFFFFF;\n",
              "    }\n",
              "  </style>\n",
              "\n",
              "    <script>\n",
              "      const buttonEl =\n",
              "        document.querySelector('#df-bb6dc2d8-2cc8-413f-a384-716cae0acac0 button.colab-df-convert');\n",
              "      buttonEl.style.display =\n",
              "        google.colab.kernel.accessAllowed ? 'block' : 'none';\n",
              "\n",
              "      async function convertToInteractive(key) {\n",
              "        const element = document.querySelector('#df-bb6dc2d8-2cc8-413f-a384-716cae0acac0');\n",
              "        const dataTable =\n",
              "          await google.colab.kernel.invokeFunction('convertToInteractive',\n",
              "                                                    [key], {});\n",
              "        if (!dataTable) return;\n",
              "\n",
              "        const docLinkHtml = 'Like what you see? Visit the ' +\n",
              "          '<a target=\"_blank\" href=https://colab.research.google.com/notebooks/data_table.ipynb>data table notebook</a>'\n",
              "          + ' to learn more about interactive tables.';\n",
              "        element.innerHTML = '';\n",
              "        dataTable['output_type'] = 'display_data';\n",
              "        await google.colab.output.renderOutput(dataTable, element);\n",
              "        const docLink = document.createElement('div');\n",
              "        docLink.innerHTML = docLinkHtml;\n",
              "        element.appendChild(docLink);\n",
              "      }\n",
              "    </script>\n",
              "  </div>\n",
              "\n",
              "\n",
              "<div id=\"df-52d28456-83b8-4077-b6fa-cd8053283c14\">\n",
              "  <button class=\"colab-df-quickchart\" onclick=\"quickchart('df-52d28456-83b8-4077-b6fa-cd8053283c14')\"\n",
              "            title=\"Suggest charts\"\n",
              "            style=\"display:none;\">\n",
              "\n",
              "<svg xmlns=\"http://www.w3.org/2000/svg\" height=\"24px\"viewBox=\"0 0 24 24\"\n",
              "     width=\"24px\">\n",
              "    <g>\n",
              "        <path d=\"M19 3H5c-1.1 0-2 .9-2 2v14c0 1.1.9 2 2 2h14c1.1 0 2-.9 2-2V5c0-1.1-.9-2-2-2zM9 17H7v-7h2v7zm4 0h-2V7h2v10zm4 0h-2v-4h2v4z\"/>\n",
              "    </g>\n",
              "</svg>\n",
              "  </button>\n",
              "\n",
              "<style>\n",
              "  .colab-df-quickchart {\n",
              "      --bg-color: #E8F0FE;\n",
              "      --fill-color: #1967D2;\n",
              "      --hover-bg-color: #E2EBFA;\n",
              "      --hover-fill-color: #174EA6;\n",
              "      --disabled-fill-color: #AAA;\n",
              "      --disabled-bg-color: #DDD;\n",
              "  }\n",
              "\n",
              "  [theme=dark] .colab-df-quickchart {\n",
              "      --bg-color: #3B4455;\n",
              "      --fill-color: #D2E3FC;\n",
              "      --hover-bg-color: #434B5C;\n",
              "      --hover-fill-color: #FFFFFF;\n",
              "      --disabled-bg-color: #3B4455;\n",
              "      --disabled-fill-color: #666;\n",
              "  }\n",
              "\n",
              "  .colab-df-quickchart {\n",
              "    background-color: var(--bg-color);\n",
              "    border: none;\n",
              "    border-radius: 50%;\n",
              "    cursor: pointer;\n",
              "    display: none;\n",
              "    fill: var(--fill-color);\n",
              "    height: 32px;\n",
              "    padding: 0;\n",
              "    width: 32px;\n",
              "  }\n",
              "\n",
              "  .colab-df-quickchart:hover {\n",
              "    background-color: var(--hover-bg-color);\n",
              "    box-shadow: 0 1px 2px rgba(60, 64, 67, 0.3), 0 1px 3px 1px rgba(60, 64, 67, 0.15);\n",
              "    fill: var(--button-hover-fill-color);\n",
              "  }\n",
              "\n",
              "  .colab-df-quickchart-complete:disabled,\n",
              "  .colab-df-quickchart-complete:disabled:hover {\n",
              "    background-color: var(--disabled-bg-color);\n",
              "    fill: var(--disabled-fill-color);\n",
              "    box-shadow: none;\n",
              "  }\n",
              "\n",
              "  .colab-df-spinner {\n",
              "    border: 2px solid var(--fill-color);\n",
              "    border-color: transparent;\n",
              "    border-bottom-color: var(--fill-color);\n",
              "    animation:\n",
              "      spin 1s steps(1) infinite;\n",
              "  }\n",
              "\n",
              "  @keyframes spin {\n",
              "    0% {\n",
              "      border-color: transparent;\n",
              "      border-bottom-color: var(--fill-color);\n",
              "      border-left-color: var(--fill-color);\n",
              "    }\n",
              "    20% {\n",
              "      border-color: transparent;\n",
              "      border-left-color: var(--fill-color);\n",
              "      border-top-color: var(--fill-color);\n",
              "    }\n",
              "    30% {\n",
              "      border-color: transparent;\n",
              "      border-left-color: var(--fill-color);\n",
              "      border-top-color: var(--fill-color);\n",
              "      border-right-color: var(--fill-color);\n",
              "    }\n",
              "    40% {\n",
              "      border-color: transparent;\n",
              "      border-right-color: var(--fill-color);\n",
              "      border-top-color: var(--fill-color);\n",
              "    }\n",
              "    60% {\n",
              "      border-color: transparent;\n",
              "      border-right-color: var(--fill-color);\n",
              "    }\n",
              "    80% {\n",
              "      border-color: transparent;\n",
              "      border-right-color: var(--fill-color);\n",
              "      border-bottom-color: var(--fill-color);\n",
              "    }\n",
              "    90% {\n",
              "      border-color: transparent;\n",
              "      border-bottom-color: var(--fill-color);\n",
              "    }\n",
              "  }\n",
              "</style>\n",
              "\n",
              "  <script>\n",
              "    async function quickchart(key) {\n",
              "      const quickchartButtonEl =\n",
              "        document.querySelector('#' + key + ' button');\n",
              "      quickchartButtonEl.disabled = true;  // To prevent multiple clicks.\n",
              "      quickchartButtonEl.classList.add('colab-df-spinner');\n",
              "      try {\n",
              "        const charts = await google.colab.kernel.invokeFunction(\n",
              "            'suggestCharts', [key], {});\n",
              "      } catch (error) {\n",
              "        console.error('Error during call to suggestCharts:', error);\n",
              "      }\n",
              "      quickchartButtonEl.classList.remove('colab-df-spinner');\n",
              "      quickchartButtonEl.classList.add('colab-df-quickchart-complete');\n",
              "    }\n",
              "    (() => {\n",
              "      let quickchartButtonEl =\n",
              "        document.querySelector('#df-52d28456-83b8-4077-b6fa-cd8053283c14 button');\n",
              "      quickchartButtonEl.style.display =\n",
              "        google.colab.kernel.accessAllowed ? 'block' : 'none';\n",
              "    })();\n",
              "  </script>\n",
              "</div>\n",
              "\n",
              "    </div>\n",
              "  </div>\n"
            ],
            "application/vnd.google.colaboratory.intrinsic+json": {
              "type": "dataframe",
              "variable_name": "vaccination_data"
            }
          },
          "metadata": {},
          "execution_count": 23
        }
      ]
    },
    {
      "cell_type": "code",
      "source": [
        "from pyspark.sql.types import StructType, StructField, StringType, LongType\n",
        "\n",
        "# Định nghĩa schema\n",
        "schema = StructType([\n",
        "    StructField(\"continent\", StringType(), True),\n",
        "    StructField(\"total_cases\", LongType(), True),\n",
        "    StructField(\"total_deaths\", LongType(), True),\n",
        "    StructField(\"total_vaccinations\", LongType(), True),\n",
        "    StructField(\"population\", LongType(), True)\n",
        "])\n",
        "\n",
        "# Xử lý dữ liệu để đảm bảo kiểu dữ liệu phù hợp\n",
        "vaccination_data['continent'] = vaccination_data['continent'].astype(str)\n",
        "vaccination_data['total_cases'] = vaccination_data['total_cases'].fillna(0).astype('int64')\n",
        "vaccination_data['total_deaths'] = vaccination_data['total_deaths'].fillna(0).astype('int64')\n",
        "vaccination_data['total_vaccinations'] = vaccination_data['total_vaccinations'].fillna(0).astype('int64')\n",
        "vaccination_data['population'] = vaccination_data['population'].fillna(0).astype('int64')\n",
        "\n",
        "# Tạo Spark DataFrame\n",
        "spark_df = spark.createDataFrame(vaccination_data[schema.fieldNames()])\n",
        "spark_df.show()"
      ],
      "metadata": {
        "colab": {
          "base_uri": "https://localhost:8080/"
        },
        "id": "6s28nkllMcan",
        "outputId": "acf06aad-e7e7-4032-f1f8-3c9b0d0540da"
      },
      "execution_count": 24,
      "outputs": [
        {
          "output_type": "stream",
          "name": "stdout",
          "text": [
            "+-------------+-----------+------------+------------------+----------+\n",
            "|    continent|total_cases|total_deaths|total_vaccinations|population|\n",
            "+-------------+-----------+------------+------------------+----------+\n",
            "|         Asia|     235214|        7998|                 0|  41128772|\n",
            "|          nan|   13145380|      259117|                 0|1426736614|\n",
            "|       Europe|     335047|        3605|                 0|   2842318|\n",
            "|       Africa|     272139|        6881|                 0|  44903228|\n",
            "|      Oceania|       8359|          34|                 0|     44295|\n",
            "|       Europe|      48015|         159|                 0|     79843|\n",
            "|       Africa|     107481|        1937|                 0|  35588996|\n",
            "|North America|       3904|          12|                 0|     15877|\n",
            "|North America|       9106|         146|                 0|     93772|\n",
            "|South America|   10101218|      130663|                 0|  45510324|\n",
            "|         Asia|     452273|        8777|                 0|   2780472|\n",
            "|North America|      44224|         292|                 0|    106459|\n",
            "|          nan|  301499099|     1637249|        9104304615|4721383370|\n",
            "|      Oceania|   11861161|       25236|                 0|  26177410|\n",
            "|       Europe|    6082444|       22534|                 0|   8939617|\n",
            "|         Asia|     835757|       10353|                 0|  10358078|\n",
            "|North America|      39127|         849|                 0|    409989|\n",
            "|         Asia|     696614|        1536|                 0|   1472237|\n",
            "|         Asia|    2051348|       29499|                 0| 171186368|\n",
            "|North America|     108582|         593|                 0|    281646|\n",
            "+-------------+-----------+------------+------------------+----------+\n",
            "only showing top 20 rows\n",
            "\n"
          ]
        }
      ]
    },
    {
      "cell_type": "code",
      "source": [
        "spark_df.printSchema()"
      ],
      "metadata": {
        "colab": {
          "base_uri": "https://localhost:8080/"
        },
        "id": "659nob5MNP6a",
        "outputId": "b27039f9-1b21-4999-de36-a7f070dbc96f"
      },
      "execution_count": 25,
      "outputs": [
        {
          "output_type": "stream",
          "name": "stdout",
          "text": [
            "root\n",
            " |-- continent: string (nullable = true)\n",
            " |-- total_cases: long (nullable = true)\n",
            " |-- total_deaths: long (nullable = true)\n",
            " |-- total_vaccinations: long (nullable = true)\n",
            " |-- population: long (nullable = true)\n",
            "\n"
          ]
        }
      ]
    },
    {
      "cell_type": "code",
      "source": [
        "spark_df.select(\"continent\",\"total_cases\").show()"
      ],
      "metadata": {
        "colab": {
          "base_uri": "https://localhost:8080/"
        },
        "id": "ctLceFS4NbDO",
        "outputId": "e11d5938-fa7c-4a09-b507-165f8f8aa3d1"
      },
      "execution_count": 26,
      "outputs": [
        {
          "output_type": "stream",
          "name": "stdout",
          "text": [
            "+-------------+-----------+\n",
            "|    continent|total_cases|\n",
            "+-------------+-----------+\n",
            "|         Asia|     235214|\n",
            "|          nan|   13145380|\n",
            "|       Europe|     335047|\n",
            "|       Africa|     272139|\n",
            "|      Oceania|       8359|\n",
            "|       Europe|      48015|\n",
            "|       Africa|     107481|\n",
            "|North America|       3904|\n",
            "|North America|       9106|\n",
            "|South America|   10101218|\n",
            "|         Asia|     452273|\n",
            "|North America|      44224|\n",
            "|          nan|  301499099|\n",
            "|      Oceania|   11861161|\n",
            "|       Europe|    6082444|\n",
            "|         Asia|     835757|\n",
            "|North America|      39127|\n",
            "|         Asia|     696614|\n",
            "|         Asia|    2051348|\n",
            "|North America|     108582|\n",
            "+-------------+-----------+\n",
            "only showing top 20 rows\n",
            "\n"
          ]
        }
      ]
    },
    {
      "cell_type": "code",
      "source": [
        "spark_df.filter(spark_df.total_cases > 1000000).show()"
      ],
      "metadata": {
        "colab": {
          "base_uri": "https://localhost:8080/"
        },
        "id": "Fkn7rQiKN07G",
        "outputId": "a51cf32f-e15c-4e2b-ff67-4cc380a8bb77"
      },
      "execution_count": 27,
      "outputs": [
        {
          "output_type": "stream",
          "name": "stdout",
          "text": [
            "+-------------+-----------+------------+------------------+----------+\n",
            "|    continent|total_cases|total_deaths|total_vaccinations|population|\n",
            "+-------------+-----------+------------+------------------+----------+\n",
            "|          nan|   13145380|      259117|                 0|1426736614|\n",
            "|South America|   10101218|      130663|                 0|  45510324|\n",
            "|          nan|  301499099|     1637249|        9104304615|4721383370|\n",
            "|      Oceania|   11861161|       25236|                 0|  26177410|\n",
            "|       Europe|    6082444|       22534|                 0|   8939617|\n",
            "|         Asia|    2051348|       29499|                 0| 171186368|\n",
            "|       Europe|    4872829|       34339|                 0|  11655923|\n",
            "|South America|    1212147|       22387|                 0|  12224114|\n",
            "|South America|   37511921|      702116|                 0| 215313504|\n",
            "|       Europe|    1329988|       38700|                 0|   6781955|\n",
            "|North America|    4819055|       55282|         102877159|  38454328|\n",
            "|South America|    5401126|       62730|                 0|  19603736|\n",
            "|         Asia|   99373219|      122304|                 0|1425887360|\n",
            "|South America|    6391876|      142727|                 0|  51874028|\n",
            "|North America|    1234701|        9372|                 0|   5180836|\n",
            "|       Europe|    1317144|       18752|                 0|   4030361|\n",
            "|North America|    1113662|        8530|                 0|  11212198|\n",
            "|       Europe|    4761919|       43509|          19047108|  10493990|\n",
            "|       Europe|    3435679|        9693|                 0|   5882259|\n",
            "|South America|    1077445|       36050|                 0|  18001002|\n",
            "+-------------+-----------+------------+------------------+----------+\n",
            "only showing top 20 rows\n",
            "\n"
          ]
        }
      ]
    },
    {
      "cell_type": "code",
      "source": [
        "from pyspark.sql.functions import format_number\n",
        "\n",
        "spark_df_with_percentage = spark_df.withColumn(\"death_percentage\", format_number((spark_df.total_deaths / spark_df.population) * 100, 2))"
      ],
      "metadata": {
        "id": "ZVwR0xSYOFJn"
      },
      "execution_count": 28,
      "outputs": []
    },
    {
      "cell_type": "code",
      "source": [
        "spark_df_with_percentage.show(5)"
      ],
      "metadata": {
        "colab": {
          "base_uri": "https://localhost:8080/"
        },
        "id": "kLmIAUnQQReM",
        "outputId": "4bd128fb-b6c2-4452-d459-b0863355d5b7"
      },
      "execution_count": 29,
      "outputs": [
        {
          "output_type": "stream",
          "name": "stdout",
          "text": [
            "+---------+-----------+------------+------------------+----------+----------------+\n",
            "|continent|total_cases|total_deaths|total_vaccinations|population|death_percentage|\n",
            "+---------+-----------+------------+------------------+----------+----------------+\n",
            "|     Asia|     235214|        7998|                 0|  41128772|            0.02|\n",
            "|      nan|   13145380|      259117|                 0|1426736614|            0.02|\n",
            "|   Europe|     335047|        3605|                 0|   2842318|            0.13|\n",
            "|   Africa|     272139|        6881|                 0|  44903228|            0.02|\n",
            "|  Oceania|       8359|          34|                 0|     44295|            0.08|\n",
            "+---------+-----------+------------+------------------+----------+----------------+\n",
            "only showing top 5 rows\n",
            "\n"
          ]
        }
      ]
    },
    {
      "cell_type": "code",
      "source": [
        "spark_df.groupBy(\"continent\").agg({\"total_deaths\": \"sum\"}).show()"
      ],
      "metadata": {
        "colab": {
          "base_uri": "https://localhost:8080/"
        },
        "id": "CPXV-arPQV9w",
        "outputId": "49981feb-195d-4bde-e498-7517e39005d3"
      },
      "execution_count": 30,
      "outputs": [
        {
          "output_type": "stream",
          "name": "stdout",
          "text": [
            "+-------------+-----------------+\n",
            "|    continent|sum(total_deaths)|\n",
            "+-------------+-----------------+\n",
            "|       Europe|          2102483|\n",
            "|       Africa|           259117|\n",
            "|          nan|         22430618|\n",
            "|North America|          1671178|\n",
            "|South America|          1354187|\n",
            "|      Oceania|            32918|\n",
            "|         Asia|          1637249|\n",
            "+-------------+-----------------+\n",
            "\n"
          ]
        }
      ]
    },
    {
      "cell_type": "code",
      "source": [
        "from pyspark.sql import SparkSession\n",
        "from pyspark.sql.types import IntegerType"
      ],
      "metadata": {
        "id": "I04lJdKAQ7VS"
      },
      "execution_count": 31,
      "outputs": []
    },
    {
      "cell_type": "code",
      "source": [
        "def double_deaths(total_deaths):\n",
        "    return total_deaths * 2\n",
        "\n",
        "double_deaths_udf = spark.udf.register(\"double_deaths\", double_deaths, IntegerType())"
      ],
      "metadata": {
        "id": "PnwNO2e1OsFw"
      },
      "execution_count": 36,
      "outputs": []
    },
    {
      "cell_type": "code",
      "source": [
        "spark_df = spark_df.withColumn(\"doubled_total_deaths\", double_deaths(spark_df.total_deaths))"
      ],
      "metadata": {
        "id": "C09Gm_TBTSwc"
      },
      "execution_count": 37,
      "outputs": []
    },
    {
      "cell_type": "code",
      "source": [
        "spark_df.show(5)"
      ],
      "metadata": {
        "colab": {
          "base_uri": "https://localhost:8080/"
        },
        "id": "-3fGVjlZTmOA",
        "outputId": "a97f67c9-451c-4ad4-d266-d2e6d52fe921"
      },
      "execution_count": 35,
      "outputs": [
        {
          "output_type": "stream",
          "name": "stdout",
          "text": [
            "+---------+-----------+------------+------------------+----------+--------------------+\n",
            "|continent|total_cases|total_deaths|total_vaccinations|population|doubled_total_deaths|\n",
            "+---------+-----------+------------+------------------+----------+--------------------+\n",
            "|     Asia|     235214|        7998|                 0|  41128772|               15996|\n",
            "|      nan|   13145380|      259117|                 0|1426736614|              518234|\n",
            "|   Europe|     335047|        3605|                 0|   2842318|                7210|\n",
            "|   Africa|     272139|        6881|                 0|  44903228|               13762|\n",
            "|  Oceania|       8359|          34|                 0|     44295|                  68|\n",
            "+---------+-----------+------------+------------------+----------+--------------------+\n",
            "only showing top 5 rows\n",
            "\n"
          ]
        }
      ]
    },
    {
      "cell_type": "code",
      "source": [
        "spark_df.createOrReplaceTempView(\"data_v\")"
      ],
      "metadata": {
        "id": "R9zHvvbkTr4i"
      },
      "execution_count": 38,
      "outputs": []
    },
    {
      "cell_type": "code",
      "source": [
        "spark.sql(\"SELECT * FROM data_v\").show(5)"
      ],
      "metadata": {
        "colab": {
          "base_uri": "https://localhost:8080/"
        },
        "id": "1Rrjw7iFVshW",
        "outputId": "98bd1456-0588-4231-97b1-cf76181bb69f"
      },
      "execution_count": 39,
      "outputs": [
        {
          "output_type": "stream",
          "name": "stdout",
          "text": [
            "+---------+-----------+------------+------------------+----------+--------------------+\n",
            "|continent|total_cases|total_deaths|total_vaccinations|population|doubled_total_deaths|\n",
            "+---------+-----------+------------+------------------+----------+--------------------+\n",
            "|     Asia|     235214|        7998|                 0|  41128772|               15996|\n",
            "|      nan|   13145380|      259117|                 0|1426736614|              518234|\n",
            "|   Europe|     335047|        3605|                 0|   2842318|                7210|\n",
            "|   Africa|     272139|        6881|                 0|  44903228|               13762|\n",
            "|  Oceania|       8359|          34|                 0|     44295|                  68|\n",
            "+---------+-----------+------------+------------------+----------+--------------------+\n",
            "only showing top 5 rows\n",
            "\n"
          ]
        }
      ]
    },
    {
      "cell_type": "code",
      "source": [
        "spark.sql(\"SELECT continent, total_vaccinations FROM data_v WHERE total_vaccinations > 1000000\").show()"
      ],
      "metadata": {
        "colab": {
          "base_uri": "https://localhost:8080/"
        },
        "id": "brx05crcV1No",
        "outputId": "b0c9a5af-2f11-4e4f-8dc6-0cb2a11fabce"
      },
      "execution_count": 40,
      "outputs": [
        {
          "output_type": "stream",
          "name": "stdout",
          "text": [
            "+-------------+------------------+\n",
            "|    continent|total_vaccinations|\n",
            "+-------------+------------------+\n",
            "|          nan|        9104304615|\n",
            "|North America|         102877159|\n",
            "|       Europe|          19047108|\n",
            "|       Europe|           2171623|\n",
            "|          nan|        1399334208|\n",
            "|          nan|         951113290|\n",
            "|          nan|        2840880020|\n",
            "|         Asia|          21014839|\n",
            "|         Asia|        2206868000|\n",
            "|       Europe|           4604865|\n",
            "|          nan|        4954377376|\n",
            "|         Asia|          72657288|\n",
            "|      Oceania|          13398398|\n",
            "|          nan|        1158547416|\n",
            "|          nan|          88358812|\n",
            "|          nan|        5449980941|\n",
            "|          nan|       13578774356|\n",
            "+-------------+------------------+\n",
            "\n"
          ]
        }
      ]
    }
  ]
}