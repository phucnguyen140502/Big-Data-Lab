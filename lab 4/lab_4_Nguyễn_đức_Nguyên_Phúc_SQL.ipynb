{
  "nbformat": 4,
  "nbformat_minor": 0,
  "metadata": {
    "colab": {
      "provenance": []
    },
    "kernelspec": {
      "name": "python3",
      "display_name": "Python 3"
    },
    "language_info": {
      "name": "python"
    }
  },
  "cells": [
    {
      "cell_type": "code",
      "execution_count": 1,
      "metadata": {
        "colab": {
          "base_uri": "https://localhost:8080/"
        },
        "id": "i3n1qWGOWfqb",
        "outputId": "dd3e9f85-b447-48e5-aae1-9d8c4d1471d6"
      },
      "outputs": [
        {
          "output_type": "stream",
          "name": "stdout",
          "text": [
            "Mounted at /content/drive\n"
          ]
        }
      ],
      "source": [
        "from google.colab import drive\n",
        "drive.mount('/content/drive')"
      ]
    },
    {
      "cell_type": "code",
      "source": [
        "from pyspark.sql import SparkSession\n",
        "spark = SparkSession.builder.appName(\"PySpark_Exercises\").getOrCreate()"
      ],
      "metadata": {
        "id": "aMB1_s1DfXL_"
      },
      "execution_count": 2,
      "outputs": []
    },
    {
      "cell_type": "code",
      "source": [
        "spark_sql = spark.read.csv(\"/content/drive/My Drive/mtcars.csv\", header=True, inferSchema=True)\n",
        "spark_sql.show(5)"
      ],
      "metadata": {
        "colab": {
          "base_uri": "https://localhost:8080/"
        },
        "id": "TOh6KwEsfhvG",
        "outputId": "59e77461-672a-468c-b12b-968312af70c6"
      },
      "execution_count": 3,
      "outputs": [
        {
          "output_type": "stream",
          "name": "stdout",
          "text": [
            "+-----------------+----+---+-----+---+----+-----+-----+---+---+----+----+\n",
            "|              _c0| mpg|cyl| disp| hp|drat|   wt| qsec| vs| am|gear|carb|\n",
            "+-----------------+----+---+-----+---+----+-----+-----+---+---+----+----+\n",
            "|        Mazda RX4|21.0|  6|160.0|110| 3.9| 2.62|16.46|  0|  1|   4|   4|\n",
            "|    Mazda RX4 Wag|21.0|  6|160.0|110| 3.9|2.875|17.02|  0|  1|   4|   4|\n",
            "|       Datsun 710|22.8|  4|108.0| 93|3.85| 2.32|18.61|  1|  1|   4|   1|\n",
            "|   Hornet 4 Drive|21.4|  6|258.0|110|3.08|3.215|19.44|  1|  0|   3|   1|\n",
            "|Hornet Sportabout|18.7|  8|360.0|175|3.15| 3.44|17.02|  0|  0|   3|   2|\n",
            "+-----------------+----+---+-----+---+----+-----+-----+---+---+----+----+\n",
            "only showing top 5 rows\n",
            "\n"
          ]
        }
      ]
    },
    {
      "cell_type": "code",
      "source": [
        "spark_sql.printSchema()"
      ],
      "metadata": {
        "colab": {
          "base_uri": "https://localhost:8080/"
        },
        "id": "XUmz0w5AjmEq",
        "outputId": "25cd228c-8c50-4333-b4f8-89d6eca6723a"
      },
      "execution_count": 4,
      "outputs": [
        {
          "output_type": "stream",
          "name": "stdout",
          "text": [
            "root\n",
            " |-- _c0: string (nullable = true)\n",
            " |-- mpg: double (nullable = true)\n",
            " |-- cyl: integer (nullable = true)\n",
            " |-- disp: double (nullable = true)\n",
            " |-- hp: integer (nullable = true)\n",
            " |-- drat: double (nullable = true)\n",
            " |-- wt: double (nullable = true)\n",
            " |-- qsec: double (nullable = true)\n",
            " |-- vs: integer (nullable = true)\n",
            " |-- am: integer (nullable = true)\n",
            " |-- gear: integer (nullable = true)\n",
            " |-- carb: integer (nullable = true)\n",
            "\n"
          ]
        }
      ]
    },
    {
      "cell_type": "code",
      "source": [
        "spark_sql.select(\"mpg\").show()"
      ],
      "metadata": {
        "colab": {
          "base_uri": "https://localhost:8080/"
        },
        "id": "lOAv_48Cj33I",
        "outputId": "07dd71d7-10e7-44f6-b698-7205a7108a2d"
      },
      "execution_count": 5,
      "outputs": [
        {
          "output_type": "stream",
          "name": "stdout",
          "text": [
            "+----+\n",
            "| mpg|\n",
            "+----+\n",
            "|21.0|\n",
            "|21.0|\n",
            "|22.8|\n",
            "|21.4|\n",
            "|18.7|\n",
            "|18.1|\n",
            "|14.3|\n",
            "|24.4|\n",
            "|22.8|\n",
            "|19.2|\n",
            "|17.8|\n",
            "|16.4|\n",
            "|17.3|\n",
            "|15.2|\n",
            "|10.4|\n",
            "|10.4|\n",
            "|14.7|\n",
            "|32.4|\n",
            "|30.4|\n",
            "|33.9|\n",
            "+----+\n",
            "only showing top 20 rows\n",
            "\n"
          ]
        }
      ]
    },
    {
      "cell_type": "code",
      "source": [
        "spark_sql.filter(spark_sql.mpg < 18).show()"
      ],
      "metadata": {
        "colab": {
          "base_uri": "https://localhost:8080/"
        },
        "id": "EIwl5UE_j-qt",
        "outputId": "d3f59bbf-2966-4f50-fdad-707338642572"
      },
      "execution_count": 9,
      "outputs": [
        {
          "output_type": "stream",
          "name": "stdout",
          "text": [
            "+-------------------+----+---+-----+---+----+-----+-----+---+---+----+----+\n",
            "|                _c0| mpg|cyl| disp| hp|drat|   wt| qsec| vs| am|gear|carb|\n",
            "+-------------------+----+---+-----+---+----+-----+-----+---+---+----+----+\n",
            "|         Duster 360|14.3|  8|360.0|245|3.21| 3.57|15.84|  0|  0|   3|   4|\n",
            "|          Merc 280C|17.8|  6|167.6|123|3.92| 3.44| 18.9|  1|  0|   4|   4|\n",
            "|         Merc 450SE|16.4|  8|275.8|180|3.07| 4.07| 17.4|  0|  0|   3|   3|\n",
            "|         Merc 450SL|17.3|  8|275.8|180|3.07| 3.73| 17.6|  0|  0|   3|   3|\n",
            "|        Merc 450SLC|15.2|  8|275.8|180|3.07| 3.78| 18.0|  0|  0|   3|   3|\n",
            "| Cadillac Fleetwood|10.4|  8|472.0|205|2.93| 5.25|17.98|  0|  0|   3|   4|\n",
            "|Lincoln Continental|10.4|  8|460.0|215| 3.0|5.424|17.82|  0|  0|   3|   4|\n",
            "|  Chrysler Imperial|14.7|  8|440.0|230|3.23|5.345|17.42|  0|  0|   3|   4|\n",
            "|   Dodge Challenger|15.5|  8|318.0|150|2.76| 3.52|16.87|  0|  0|   3|   2|\n",
            "|        AMC Javelin|15.2|  8|304.0|150|3.15|3.435| 17.3|  0|  0|   3|   2|\n",
            "|         Camaro Z28|13.3|  8|350.0|245|3.73| 3.84|15.41|  0|  0|   3|   4|\n",
            "|     Ford Pantera L|15.8|  8|351.0|264|4.22| 3.17| 14.5|  0|  1|   5|   4|\n",
            "|      Maserati Bora|15.0|  8|301.0|335|3.54| 3.57| 14.6|  0|  1|   5|   8|\n",
            "+-------------------+----+---+-----+---+----+-----+-----+---+---+----+----+\n",
            "\n"
          ]
        }
      ]
    },
    {
      "cell_type": "code",
      "source": [
        "from pyspark.sql.functions import col\n",
        "\n",
        "spark_sql = spark_sql.withColumn(\"wtTon\", col(\"wt\")*0.45)\n",
        "spark_sql.select(\"wt\",\"wtTon\").show(5)"
      ],
      "metadata": {
        "colab": {
          "base_uri": "https://localhost:8080/"
        },
        "id": "llN6DTctkKme",
        "outputId": "164b7177-95b4-4197-c439-0d93182410e7"
      },
      "execution_count": 11,
      "outputs": [
        {
          "output_type": "stream",
          "name": "stdout",
          "text": [
            "+-----+-------+\n",
            "|   wt|  wtTon|\n",
            "+-----+-------+\n",
            "| 2.62|  1.179|\n",
            "|2.875|1.29375|\n",
            "| 2.32|  1.044|\n",
            "|3.215|1.44675|\n",
            "| 3.44|  1.548|\n",
            "+-----+-------+\n",
            "only showing top 5 rows\n",
            "\n"
          ]
        }
      ]
    },
    {
      "cell_type": "code",
      "source": [
        "spark_sql = spark_sql.withColumnRenamed(\"vs\", \"versus\")\n",
        "spark_sql.show(5)"
      ],
      "metadata": {
        "colab": {
          "base_uri": "https://localhost:8080/"
        },
        "id": "i2F6IV5oleLX",
        "outputId": "2165eec6-b262-40c5-8d4b-f6bd70024bb4"
      },
      "execution_count": 12,
      "outputs": [
        {
          "output_type": "stream",
          "name": "stdout",
          "text": [
            "+-----------------+----+---+-----+---+----+-----+-----+------+---+----+----+-------+\n",
            "|              _c0| mpg|cyl| disp| hp|drat|   wt| qsec|versus| am|gear|carb|  wtTon|\n",
            "+-----------------+----+---+-----+---+----+-----+-----+------+---+----+----+-------+\n",
            "|        Mazda RX4|21.0|  6|160.0|110| 3.9| 2.62|16.46|     0|  1|   4|   4|  1.179|\n",
            "|    Mazda RX4 Wag|21.0|  6|160.0|110| 3.9|2.875|17.02|     0|  1|   4|   4|1.29375|\n",
            "|       Datsun 710|22.8|  4|108.0| 93|3.85| 2.32|18.61|     1|  1|   4|   1|  1.044|\n",
            "|   Hornet 4 Drive|21.4|  6|258.0|110|3.08|3.215|19.44|     1|  0|   3|   1|1.44675|\n",
            "|Hornet Sportabout|18.7|  8|360.0|175|3.15| 3.44|17.02|     0|  0|   3|   2|  1.548|\n",
            "+-----------------+----+---+-----+---+----+-----+-----+------+---+----+----+-------+\n",
            "only showing top 5 rows\n",
            "\n"
          ]
        }
      ]
    },
    {
      "cell_type": "code",
      "source": [
        "data1 = [(\"A101\", \"John\"), (\"A102\", \"Peter\"), (\"A103\", \"Charlie\")]\n",
        "columns1 = [\"emp_id\", \"emp_name\"]\n",
        "df1 = spark.createDataFrame(data1, columns1)"
      ],
      "metadata": {
        "id": "DrclknwtmGo5"
      },
      "execution_count": 13,
      "outputs": []
    },
    {
      "cell_type": "code",
      "source": [
        "df1.show()"
      ],
      "metadata": {
        "colab": {
          "base_uri": "https://localhost:8080/"
        },
        "id": "OCkLGIz1mWC1",
        "outputId": "30c993e1-d473-4bb3-e260-21ab20e7992a"
      },
      "execution_count": 14,
      "outputs": [
        {
          "output_type": "stream",
          "name": "stdout",
          "text": [
            "+------+--------+\n",
            "|emp_id|emp_name|\n",
            "+------+--------+\n",
            "|  A101|    John|\n",
            "|  A102|   Peter|\n",
            "|  A103| Charlie|\n",
            "+------+--------+\n",
            "\n"
          ]
        }
      ]
    },
    {
      "cell_type": "code",
      "source": [
        "data2 = [(\"A101\", 1000), (\"A102\", 2000), (\"A103\", 3000)]\n",
        "columns2 = [\"emp_id\", \"salary\"]\n",
        "df2 = spark.createDataFrame(data2, columns2)"
      ],
      "metadata": {
        "id": "TF-MTpZDmYYb"
      },
      "execution_count": 15,
      "outputs": []
    },
    {
      "cell_type": "code",
      "source": [
        "df2.show()"
      ],
      "metadata": {
        "colab": {
          "base_uri": "https://localhost:8080/"
        },
        "id": "GC7gSeYnmdjs",
        "outputId": "187854d9-caae-4e02-f71c-d0c63320d68a"
      },
      "execution_count": 16,
      "outputs": [
        {
          "output_type": "stream",
          "name": "stdout",
          "text": [
            "+------+------+\n",
            "|emp_id|salary|\n",
            "+------+------+\n",
            "|  A101|  1000|\n",
            "|  A102|  2000|\n",
            "|  A103|  3000|\n",
            "+------+------+\n",
            "\n"
          ]
        }
      ]
    },
    {
      "cell_type": "code",
      "source": [
        "combined_df = df1.join(df2, on=\"emp_id\", how=\"inner\")\n",
        "combined_df.show()"
      ],
      "metadata": {
        "colab": {
          "base_uri": "https://localhost:8080/"
        },
        "id": "fKkTusFXmfvD",
        "outputId": "f4631a8c-7b96-4cd4-db9b-bbe0516904a3"
      },
      "execution_count": 17,
      "outputs": [
        {
          "output_type": "stream",
          "name": "stdout",
          "text": [
            "+------+--------+------+\n",
            "|emp_id|emp_name|salary|\n",
            "+------+--------+------+\n",
            "|  A101|    John|  1000|\n",
            "|  A102|   Peter|  2000|\n",
            "|  A103| Charlie|  3000|\n",
            "+------+--------+------+\n",
            "\n"
          ]
        }
      ]
    },
    {
      "cell_type": "code",
      "source": [
        "data3 = [(\"A101\", 1000), (\"A102\", 2000), (\"A103\", None)]\n",
        "columns3 = [\"emp_id\", \"salary\"]\n",
        "df3 = spark.createDataFrame(data3, columns3)"
      ],
      "metadata": {
        "id": "lg1eQNbcmnYi"
      },
      "execution_count": 18,
      "outputs": []
    },
    {
      "cell_type": "code",
      "source": [
        "df3.show()"
      ],
      "metadata": {
        "colab": {
          "base_uri": "https://localhost:8080/"
        },
        "id": "TsyUrc_5murq",
        "outputId": "5983fdda-c022-4ac9-eacd-2e00a7c22dbe"
      },
      "execution_count": 19,
      "outputs": [
        {
          "output_type": "stream",
          "name": "stdout",
          "text": [
            "+------+------+\n",
            "|emp_id|salary|\n",
            "+------+------+\n",
            "|  A101|  1000|\n",
            "|  A102|  2000|\n",
            "|  A103|  NULL|\n",
            "+------+------+\n",
            "\n"
          ]
        }
      ]
    },
    {
      "cell_type": "code",
      "source": [
        "df3 = df3.fillna({\"salary\": 3000})"
      ],
      "metadata": {
        "id": "B04l7jykmxAW"
      },
      "execution_count": 21,
      "outputs": []
    },
    {
      "cell_type": "code",
      "source": [
        "df3.show()"
      ],
      "metadata": {
        "colab": {
          "base_uri": "https://localhost:8080/"
        },
        "id": "lHIk5KTMnKCx",
        "outputId": "8b93e289-5a6b-4752-c6fc-fba9e412c18e"
      },
      "execution_count": 22,
      "outputs": [
        {
          "output_type": "stream",
          "name": "stdout",
          "text": [
            "+------+------+\n",
            "|emp_id|salary|\n",
            "+------+------+\n",
            "|  A101|  1000|\n",
            "|  A102|  2000|\n",
            "|  A103|  3000|\n",
            "+------+------+\n",
            "\n"
          ]
        }
      ]
    },
    {
      "cell_type": "code",
      "source": [
        "spark_sql.groupBy(\"cyl\").agg({\"wt\": \"mean\"}).orderBy(\"cyl\").show()"
      ],
      "metadata": {
        "colab": {
          "base_uri": "https://localhost:8080/"
        },
        "id": "j2sTwJg5nLkR",
        "outputId": "2b225fdf-df5d-4378-930e-f1e595487e2e"
      },
      "execution_count": 24,
      "outputs": [
        {
          "output_type": "stream",
          "name": "stdout",
          "text": [
            "+---+------------------+\n",
            "|cyl|           avg(wt)|\n",
            "+---+------------------+\n",
            "|  4| 2.285727272727273|\n",
            "|  6| 3.117142857142857|\n",
            "|  8|3.9992142857142867|\n",
            "+---+------------------+\n",
            "\n"
          ]
        }
      ]
    },
    {
      "cell_type": "code",
      "source": [
        "spark_sql.createOrReplaceTempView(\"cars\")"
      ],
      "metadata": {
        "id": "qsDixwZ3noH5"
      },
      "execution_count": 25,
      "outputs": []
    },
    {
      "cell_type": "code",
      "source": [
        "spark.sql(\"SELECT * FROM cars\").show()"
      ],
      "metadata": {
        "colab": {
          "base_uri": "https://localhost:8080/"
        },
        "id": "xTxJ8Uffnun3",
        "outputId": "e09308e7-961c-461b-edb9-e059397e25d6"
      },
      "execution_count": 28,
      "outputs": [
        {
          "output_type": "stream",
          "name": "stdout",
          "text": [
            "+-------------------+----+---+-----+---+----+-----+-----+------+---+----+----+------------------+\n",
            "|                _c0| mpg|cyl| disp| hp|drat|   wt| qsec|versus| am|gear|carb|             wtTon|\n",
            "+-------------------+----+---+-----+---+----+-----+-----+------+---+----+----+------------------+\n",
            "|          Mazda RX4|21.0|  6|160.0|110| 3.9| 2.62|16.46|     0|  1|   4|   4|             1.179|\n",
            "|      Mazda RX4 Wag|21.0|  6|160.0|110| 3.9|2.875|17.02|     0|  1|   4|   4|           1.29375|\n",
            "|         Datsun 710|22.8|  4|108.0| 93|3.85| 2.32|18.61|     1|  1|   4|   1|             1.044|\n",
            "|     Hornet 4 Drive|21.4|  6|258.0|110|3.08|3.215|19.44|     1|  0|   3|   1|           1.44675|\n",
            "|  Hornet Sportabout|18.7|  8|360.0|175|3.15| 3.44|17.02|     0|  0|   3|   2|             1.548|\n",
            "|            Valiant|18.1|  6|225.0|105|2.76| 3.46|20.22|     1|  0|   3|   1|             1.557|\n",
            "|         Duster 360|14.3|  8|360.0|245|3.21| 3.57|15.84|     0|  0|   3|   4|            1.6065|\n",
            "|          Merc 240D|24.4|  4|146.7| 62|3.69| 3.19| 20.0|     1|  0|   4|   2|            1.4355|\n",
            "|           Merc 230|22.8|  4|140.8| 95|3.92| 3.15| 22.9|     1|  0|   4|   2|            1.4175|\n",
            "|           Merc 280|19.2|  6|167.6|123|3.92| 3.44| 18.3|     1|  0|   4|   4|             1.548|\n",
            "|          Merc 280C|17.8|  6|167.6|123|3.92| 3.44| 18.9|     1|  0|   4|   4|             1.548|\n",
            "|         Merc 450SE|16.4|  8|275.8|180|3.07| 4.07| 17.4|     0|  0|   3|   3|1.8315000000000001|\n",
            "|         Merc 450SL|17.3|  8|275.8|180|3.07| 3.73| 17.6|     0|  0|   3|   3|            1.6785|\n",
            "|        Merc 450SLC|15.2|  8|275.8|180|3.07| 3.78| 18.0|     0|  0|   3|   3|1.7009999999999998|\n",
            "| Cadillac Fleetwood|10.4|  8|472.0|205|2.93| 5.25|17.98|     0|  0|   3|   4|2.3625000000000003|\n",
            "|Lincoln Continental|10.4|  8|460.0|215| 3.0|5.424|17.82|     0|  0|   3|   4|2.4408000000000003|\n",
            "|  Chrysler Imperial|14.7|  8|440.0|230|3.23|5.345|17.42|     0|  0|   3|   4|           2.40525|\n",
            "|           Fiat 128|32.4|  4| 78.7| 66|4.08|  2.2|19.47|     1|  1|   4|   1|0.9900000000000001|\n",
            "|        Honda Civic|30.4|  4| 75.7| 52|4.93|1.615|18.52|     1|  1|   4|   2|           0.72675|\n",
            "|     Toyota Corolla|33.9|  4| 71.1| 65|4.22|1.835| 19.9|     1|  1|   4|   1|           0.82575|\n",
            "+-------------------+----+---+-----+---+----+-----+-----+------+---+----+----+------------------+\n",
            "only showing top 20 rows\n",
            "\n"
          ]
        }
      ]
    },
    {
      "cell_type": "code",
      "source": [
        "spark.sql(\"SELECT * FROM cars\").show()"
      ],
      "metadata": {
        "colab": {
          "base_uri": "https://localhost:8080/"
        },
        "id": "oiWOB5JSoEti",
        "outputId": "7255537f-b32e-4431-aa66-575778df6c30"
      },
      "execution_count": 30,
      "outputs": [
        {
          "output_type": "stream",
          "name": "stdout",
          "text": [
            "+-------------------+----+---+-----+---+----+-----+-----+------+---+----+----+------------------+\n",
            "|                _c0| mpg|cyl| disp| hp|drat|   wt| qsec|versus| am|gear|carb|             wtTon|\n",
            "+-------------------+----+---+-----+---+----+-----+-----+------+---+----+----+------------------+\n",
            "|          Mazda RX4|21.0|  6|160.0|110| 3.9| 2.62|16.46|     0|  1|   4|   4|             1.179|\n",
            "|      Mazda RX4 Wag|21.0|  6|160.0|110| 3.9|2.875|17.02|     0|  1|   4|   4|           1.29375|\n",
            "|         Datsun 710|22.8|  4|108.0| 93|3.85| 2.32|18.61|     1|  1|   4|   1|             1.044|\n",
            "|     Hornet 4 Drive|21.4|  6|258.0|110|3.08|3.215|19.44|     1|  0|   3|   1|           1.44675|\n",
            "|  Hornet Sportabout|18.7|  8|360.0|175|3.15| 3.44|17.02|     0|  0|   3|   2|             1.548|\n",
            "|            Valiant|18.1|  6|225.0|105|2.76| 3.46|20.22|     1|  0|   3|   1|             1.557|\n",
            "|         Duster 360|14.3|  8|360.0|245|3.21| 3.57|15.84|     0|  0|   3|   4|            1.6065|\n",
            "|          Merc 240D|24.4|  4|146.7| 62|3.69| 3.19| 20.0|     1|  0|   4|   2|            1.4355|\n",
            "|           Merc 230|22.8|  4|140.8| 95|3.92| 3.15| 22.9|     1|  0|   4|   2|            1.4175|\n",
            "|           Merc 280|19.2|  6|167.6|123|3.92| 3.44| 18.3|     1|  0|   4|   4|             1.548|\n",
            "|          Merc 280C|17.8|  6|167.6|123|3.92| 3.44| 18.9|     1|  0|   4|   4|             1.548|\n",
            "|         Merc 450SE|16.4|  8|275.8|180|3.07| 4.07| 17.4|     0|  0|   3|   3|1.8315000000000001|\n",
            "|         Merc 450SL|17.3|  8|275.8|180|3.07| 3.73| 17.6|     0|  0|   3|   3|            1.6785|\n",
            "|        Merc 450SLC|15.2|  8|275.8|180|3.07| 3.78| 18.0|     0|  0|   3|   3|1.7009999999999998|\n",
            "| Cadillac Fleetwood|10.4|  8|472.0|205|2.93| 5.25|17.98|     0|  0|   3|   4|2.3625000000000003|\n",
            "|Lincoln Continental|10.4|  8|460.0|215| 3.0|5.424|17.82|     0|  0|   3|   4|2.4408000000000003|\n",
            "|  Chrysler Imperial|14.7|  8|440.0|230|3.23|5.345|17.42|     0|  0|   3|   4|           2.40525|\n",
            "|           Fiat 128|32.4|  4| 78.7| 66|4.08|  2.2|19.47|     1|  1|   4|   1|0.9900000000000001|\n",
            "|        Honda Civic|30.4|  4| 75.7| 52|4.93|1.615|18.52|     1|  1|   4|   2|           0.72675|\n",
            "|     Toyota Corolla|33.9|  4| 71.1| 65|4.22|1.835| 19.9|     1|  1|   4|   1|           0.82575|\n",
            "+-------------------+----+---+-----+---+----+-----+-----+------+---+----+----+------------------+\n",
            "only showing top 20 rows\n",
            "\n"
          ]
        }
      ]
    },
    {
      "cell_type": "code",
      "source": [
        "spark.sql(\"SELECT DISTINCT(mpg) FROM cars\").show()"
      ],
      "metadata": {
        "colab": {
          "base_uri": "https://localhost:8080/"
        },
        "id": "3hIxYc_pnSZJ",
        "outputId": "ea4eb04f-8cf4-46ad-db4f-8bd28b0a70f9"
      },
      "execution_count": 29,
      "outputs": [
        {
          "output_type": "stream",
          "name": "stdout",
          "text": [
            "+----+\n",
            "| mpg|\n",
            "+----+\n",
            "|15.5|\n",
            "|17.3|\n",
            "|13.3|\n",
            "|19.7|\n",
            "|21.4|\n",
            "|15.8|\n",
            "|27.3|\n",
            "|24.4|\n",
            "|19.2|\n",
            "|21.0|\n",
            "|33.9|\n",
            "|18.1|\n",
            "|15.2|\n",
            "|14.7|\n",
            "|14.3|\n",
            "|22.8|\n",
            "|18.7|\n",
            "|21.5|\n",
            "|17.8|\n",
            "|10.4|\n",
            "+----+\n",
            "only showing top 20 rows\n",
            "\n"
          ]
        }
      ]
    },
    {
      "cell_type": "code",
      "source": [
        "spark.sql(\"SELECT * FROM cars WHERE mpg > 20 and cyl < 6\").show()"
      ],
      "metadata": {
        "colab": {
          "base_uri": "https://localhost:8080/"
        },
        "id": "lGnBgRKUnI28",
        "outputId": "496d622d-5c03-4fbb-b2ff-687e7dbaf946"
      },
      "execution_count": 31,
      "outputs": [
        {
          "output_type": "stream",
          "name": "stdout",
          "text": [
            "+--------------+----+---+-----+---+----+-----+-----+------+---+----+----+------------------+\n",
            "|           _c0| mpg|cyl| disp| hp|drat|   wt| qsec|versus| am|gear|carb|             wtTon|\n",
            "+--------------+----+---+-----+---+----+-----+-----+------+---+----+----+------------------+\n",
            "|    Datsun 710|22.8|  4|108.0| 93|3.85| 2.32|18.61|     1|  1|   4|   1|             1.044|\n",
            "|     Merc 240D|24.4|  4|146.7| 62|3.69| 3.19| 20.0|     1|  0|   4|   2|            1.4355|\n",
            "|      Merc 230|22.8|  4|140.8| 95|3.92| 3.15| 22.9|     1|  0|   4|   2|            1.4175|\n",
            "|      Fiat 128|32.4|  4| 78.7| 66|4.08|  2.2|19.47|     1|  1|   4|   1|0.9900000000000001|\n",
            "|   Honda Civic|30.4|  4| 75.7| 52|4.93|1.615|18.52|     1|  1|   4|   2|           0.72675|\n",
            "|Toyota Corolla|33.9|  4| 71.1| 65|4.22|1.835| 19.9|     1|  1|   4|   1|           0.82575|\n",
            "| Toyota Corona|21.5|  4|120.1| 97| 3.7|2.465|20.01|     1|  0|   3|   1|           1.10925|\n",
            "|     Fiat X1-9|27.3|  4| 79.0| 66|4.08|1.935| 18.9|     1|  1|   4|   1|           0.87075|\n",
            "| Porsche 914-2|26.0|  4|120.3| 91|4.43| 2.14| 16.7|     0|  1|   5|   2|0.9630000000000001|\n",
            "|  Lotus Europa|30.4|  4| 95.1|113|3.77|1.513| 16.9|     1|  1|   5|   2|           0.68085|\n",
            "|    Volvo 142E|21.4|  4|121.0|109|4.11| 2.78| 18.6|     1|  1|   4|   2|             1.251|\n",
            "+--------------+----+---+-----+---+----+-----+-----+------+---+----+----+------------------+\n",
            "\n"
          ]
        }
      ]
    },
    {
      "cell_type": "code",
      "source": [
        "spark.sql(\"\"\"SELECT cyl, avg(wt) as avg_weight\n",
        "          FROM cars\n",
        "          group by cyl\"\"\").show()"
      ],
      "metadata": {
        "colab": {
          "base_uri": "https://localhost:8080/"
        },
        "id": "HnGR23VToYYG",
        "outputId": "13f57ebd-60b6-4346-e4b0-d1dea8114e9e"
      },
      "execution_count": 33,
      "outputs": [
        {
          "output_type": "stream",
          "name": "stdout",
          "text": [
            "+---+------------------+\n",
            "|cyl|        avg_weight|\n",
            "+---+------------------+\n",
            "|  6| 3.117142857142857|\n",
            "|  4| 2.285727272727273|\n",
            "|  8|3.9992142857142867|\n",
            "+---+------------------+\n",
            "\n"
          ]
        }
      ]
    },
    {
      "cell_type": "code",
      "source": [
        "from pyspark.sql.functions import udf\n",
        "from pyspark.sql.types import FloatType\n",
        "\n",
        "def convert_weight(wt):\n",
        "  return wt*0.45\n",
        "\n",
        "convert_weight_udf = udf(convert_weight, FloatType())\n",
        "spark.udf.register(\"convert_weight\", convert_weight_udf)"
      ],
      "metadata": {
        "colab": {
          "base_uri": "https://localhost:8080/"
        },
        "id": "EiabAmFSpKmO",
        "outputId": "69fd7b78-1d08-4b4b-eaab-5eeb7f0e9ea4"
      },
      "execution_count": 34,
      "outputs": [
        {
          "output_type": "execute_result",
          "data": {
            "text/plain": [
              "<pyspark.sql.udf.UserDefinedFunction at 0x79277fb9d090>"
            ]
          },
          "metadata": {},
          "execution_count": 34
        }
      ]
    },
    {
      "cell_type": "code",
      "source": [
        "spark.sql(\"SELECT wt, convert_weight(wt) as wtTon FROM cars\").show()"
      ],
      "metadata": {
        "colab": {
          "base_uri": "https://localhost:8080/"
        },
        "id": "bgIzJ-9Aqlx4",
        "outputId": "a8c23393-1feb-4b13-8875-b0ba4376f25e"
      },
      "execution_count": 35,
      "outputs": [
        {
          "output_type": "stream",
          "name": "stdout",
          "text": [
            "+-----+-------+\n",
            "|   wt|  wtTon|\n",
            "+-----+-------+\n",
            "| 2.62|  1.179|\n",
            "|2.875|1.29375|\n",
            "| 2.32|  1.044|\n",
            "|3.215|1.44675|\n",
            "| 3.44|  1.548|\n",
            "| 3.46|  1.557|\n",
            "| 3.57| 1.6065|\n",
            "| 3.19| 1.4355|\n",
            "| 3.15| 1.4175|\n",
            "| 3.44|  1.548|\n",
            "| 3.44|  1.548|\n",
            "| 4.07| 1.8315|\n",
            "| 3.73| 1.6785|\n",
            "| 3.78|  1.701|\n",
            "| 5.25| 2.3625|\n",
            "|5.424| 2.4408|\n",
            "|5.345|2.40525|\n",
            "|  2.2|   0.99|\n",
            "|1.615|0.72675|\n",
            "|1.835|0.82575|\n",
            "+-----+-------+\n",
            "only showing top 20 rows\n",
            "\n"
          ]
        }
      ]
    },
    {
      "cell_type": "code",
      "source": [],
      "metadata": {
        "id": "3qrPeTW9pH58"
      },
      "execution_count": null,
      "outputs": []
    }
  ]
}