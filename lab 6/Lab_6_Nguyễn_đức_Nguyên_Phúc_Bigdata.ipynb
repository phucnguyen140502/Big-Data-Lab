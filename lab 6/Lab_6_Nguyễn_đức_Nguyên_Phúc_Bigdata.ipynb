{
  "nbformat": 4,
  "nbformat_minor": 0,
  "metadata": {
    "colab": {
      "provenance": []
    },
    "kernelspec": {
      "name": "python3",
      "display_name": "Python 3"
    },
    "language_info": {
      "name": "python"
    }
  },
  "cells": [
    {
      "cell_type": "code",
      "execution_count": 1,
      "metadata": {
        "id": "Ed6MsAxwxsZ7"
      },
      "outputs": [],
      "source": [
        "from pyspark.sql import SparkSession\n",
        "from pyspark.sql.functions import col, count, when, avg\n",
        "\n",
        "# Khởi tạo SparkSession\n",
        "spark = SparkSession.builder.appName(\"CreditCardFraudDetection\").getOrCreate()\n"
      ]
    },
    {
      "cell_type": "code",
      "source": [
        "from datetime import datetime\n",
        "from pyspark.sql import Row\n",
        "\n",
        "# Dữ liệu mô phỏng\n",
        "data = [\n",
        "    Row(TransactionID=1, Amount=50, Location=\"New York\", IP_Address=\"192.168.1.1\", Timestamp=datetime(2025,1,29,10,0), DeliveryType=\"Home\"),\n",
        "    Row(TransactionID=2, Amount=5000, Location=\"Los Angeles\", IP_Address=\"10.0.0.2\", Timestamp=datetime(2025,1,29,10,5), DeliveryType=\"Store Pickup\"),\n",
        "    Row(TransactionID=3, Amount=30, Location=\"New York\", IP_Address=\"192.168.1.1\", Timestamp=datetime(2025,1,29,10,10), DeliveryType=\"Home\"),\n",
        "    Row(TransactionID=4, Amount=7000, Location=\"Texas\", IP_Address=\"10.0.0.3\", Timestamp=datetime(2025,1,29,10,15), DeliveryType=\"PO Box\"),\n",
        "    Row(TransactionID=5, Amount=90, Location=\"Los Angeles\", IP_Address=\"10.0.0.4\", Timestamp=datetime(2025,1,29,10,20), DeliveryType=\"Home\"),\n",
        "    Row(TransactionID=6, Amount=12000, Location=\"Texas\", IP_Address=\"10.0.0.5\", Timestamp=datetime(2025,1,29,10,25), DeliveryType=\"Store Pickup\"),\n",
        "    Row(TransactionID=7, Amount=4000, Location=\"Chicago\", IP_Address=\"172.16.0.1\", Timestamp=datetime(2025,1,29,10,30), DeliveryType=\"Home\"),\n",
        "    Row(TransactionID=8, Amount=80, Location=\"Chicago\", IP_Address=\"172.16.0.1\", Timestamp=datetime(2025,1,29,10,35), DeliveryType=\"Home\"),\n",
        "    Row(TransactionID=9, Amount=200, Location=\"Miami\", IP_Address=\"8.8.8.8\", Timestamp=datetime(2025,1,29,10,40), DeliveryType=\"Store Pickup\"),\n",
        "    Row(TransactionID=10, Amount=6000, Location=\"Seattle\", IP_Address=\"8.8.4.4\", Timestamp=datetime(2025,1,29,10,45), DeliveryType=\"Home\")\n",
        "]\n",
        "\n",
        "# Tạo DataFrame từ dữ liệu\n",
        "df = spark.createDataFrame(data)\n",
        "\n",
        "# Hiển thị 5 dòng đầu tiên\n",
        "df.show()\n"
      ],
      "metadata": {
        "colab": {
          "base_uri": "https://localhost:8080/"
        },
        "id": "XYZPaV74x1cc",
        "outputId": "937da895-3cee-4161-e3fb-3cffc1cbcdb3"
      },
      "execution_count": 2,
      "outputs": [
        {
          "output_type": "stream",
          "name": "stdout",
          "text": [
            "+-------------+------+-----------+-----------+-------------------+------------+\n",
            "|TransactionID|Amount|   Location| IP_Address|          Timestamp|DeliveryType|\n",
            "+-------------+------+-----------+-----------+-------------------+------------+\n",
            "|            1|    50|   New York|192.168.1.1|2025-01-29 10:00:00|        Home|\n",
            "|            2|  5000|Los Angeles|   10.0.0.2|2025-01-29 10:05:00|Store Pickup|\n",
            "|            3|    30|   New York|192.168.1.1|2025-01-29 10:10:00|        Home|\n",
            "|            4|  7000|      Texas|   10.0.0.3|2025-01-29 10:15:00|      PO Box|\n",
            "|            5|    90|Los Angeles|   10.0.0.4|2025-01-29 10:20:00|        Home|\n",
            "|            6| 12000|      Texas|   10.0.0.5|2025-01-29 10:25:00|Store Pickup|\n",
            "|            7|  4000|    Chicago| 172.16.0.1|2025-01-29 10:30:00|        Home|\n",
            "|            8|    80|    Chicago| 172.16.0.1|2025-01-29 10:35:00|        Home|\n",
            "|            9|   200|      Miami|    8.8.8.8|2025-01-29 10:40:00|Store Pickup|\n",
            "|           10|  6000|    Seattle|    8.8.4.4|2025-01-29 10:45:00|        Home|\n",
            "+-------------+------+-----------+-----------+-------------------+------------+\n",
            "\n"
          ]
        }
      ]
    },
    {
      "cell_type": "code",
      "source": [
        "df.agg({\"Amount\":\"avg\"}).collect()"
      ],
      "metadata": {
        "colab": {
          "base_uri": "https://localhost:8080/"
        },
        "id": "KTGpTpJx1a32",
        "outputId": "0bf17198-e469-4d70-faa1-7712beeae93a"
      },
      "execution_count": 23,
      "outputs": [
        {
          "output_type": "execute_result",
          "data": {
            "text/plain": [
              "[Row(avg(Amount)=3445.0)]"
            ]
          },
          "metadata": {},
          "execution_count": 23
        }
      ]
    },
    {
      "cell_type": "code",
      "source": [
        "# Tính trung bình số tiền giao dịch\n",
        "avg_amount = df.agg({\"Amount\":\"avg\"}).collect()[0][0] # Collect the average value\n",
        "print(\"Trung bình số tiền giao dịch:\", avg_amount)\n",
        "\n",
        "# Xác định giao dịch lớn hơn 2 lần mức trung bình là đáng nghi\n",
        "suspicious_transactions = df.filter(col(\"Amount\") > (2 * avg_amount))\n",
        "suspicious_transactions.show()"
      ],
      "metadata": {
        "colab": {
          "base_uri": "https://localhost:8080/"
        },
        "id": "V4Mssk46yBk5",
        "outputId": "0b56c9c0-a3ce-4303-f16c-fe13b171990f"
      },
      "execution_count": 8,
      "outputs": [
        {
          "output_type": "stream",
          "name": "stdout",
          "text": [
            "Trung bình số tiền giao dịch: 3445.0\n",
            "+-------------+------+--------+----------+-------------------+------------+\n",
            "|TransactionID|Amount|Location|IP_Address|          Timestamp|DeliveryType|\n",
            "+-------------+------+--------+----------+-------------------+------------+\n",
            "|            4|  7000|   Texas|  10.0.0.3|2025-01-29 10:15:00|      PO Box|\n",
            "|            6| 12000|   Texas|  10.0.0.5|2025-01-29 10:25:00|Store Pickup|\n",
            "+-------------+------+--------+----------+-------------------+------------+\n",
            "\n"
          ]
        }
      ]
    },
    {
      "cell_type": "code",
      "source": [
        "df.groupBy(\"IP_Address\").agg(count(\"*\").alias(\"TransactionCount\")).orderBy(col(\"TransactionCount\").desc()).show()"
      ],
      "metadata": {
        "colab": {
          "base_uri": "https://localhost:8080/"
        },
        "id": "MfZiN0A8zSXB",
        "outputId": "eae534a8-fdf0-49db-ff3e-2e2b80e59180"
      },
      "execution_count": 9,
      "outputs": [
        {
          "output_type": "stream",
          "name": "stdout",
          "text": [
            "+-----------+----------------+\n",
            "| IP_Address|TransactionCount|\n",
            "+-----------+----------------+\n",
            "|192.168.1.1|               2|\n",
            "| 172.16.0.1|               2|\n",
            "|   10.0.0.2|               1|\n",
            "|   10.0.0.3|               1|\n",
            "|   10.0.0.4|               1|\n",
            "|   10.0.0.5|               1|\n",
            "|    8.8.4.4|               1|\n",
            "|    8.8.8.8|               1|\n",
            "+-----------+----------------+\n",
            "\n"
          ]
        }
      ]
    },
    {
      "cell_type": "code",
      "source": [
        "df.groupBy(\"Location\").agg(count(\"*\").alias(\"TransactionCount\")).orderBy(col(\"TransactionCount\").desc()).show()"
      ],
      "metadata": {
        "colab": {
          "base_uri": "https://localhost:8080/"
        },
        "id": "QQ7I78xcz4Kl",
        "outputId": "1321da80-de16-41a9-8d93-cf7fc125d7e8"
      },
      "execution_count": 10,
      "outputs": [
        {
          "output_type": "stream",
          "name": "stdout",
          "text": [
            "+-----------+----------------+\n",
            "|   Location|TransactionCount|\n",
            "+-----------+----------------+\n",
            "|Los Angeles|               2|\n",
            "|      Texas|               2|\n",
            "|   New York|               2|\n",
            "|    Chicago|               2|\n",
            "|    Seattle|               1|\n",
            "|      Miami|               1|\n",
            "+-----------+----------------+\n",
            "\n"
          ]
        }
      ]
    },
    {
      "cell_type": "code",
      "source": [
        "df.groupBy(\"DeliveryType\").agg(count(\"*\").alias(\"TransactionCount\")).orderBy(col(\"TransactionCount\").desc()).show()"
      ],
      "metadata": {
        "colab": {
          "base_uri": "https://localhost:8080/"
        },
        "id": "Jfl4rJMA0Cpn",
        "outputId": "3eaa70f8-0731-4ea2-b347-68b7e3320ccb"
      },
      "execution_count": 11,
      "outputs": [
        {
          "output_type": "stream",
          "name": "stdout",
          "text": [
            "+------------+----------------+\n",
            "|DeliveryType|TransactionCount|\n",
            "+------------+----------------+\n",
            "|        Home|               6|\n",
            "|Store Pickup|               3|\n",
            "|      PO Box|               1|\n",
            "+------------+----------------+\n",
            "\n"
          ]
        }
      ]
    },
    {
      "cell_type": "markdown",
      "source": [
        "#### Machine Learning Analysis"
      ],
      "metadata": {
        "id": "Hd2bBHLL0j6W"
      }
    },
    {
      "cell_type": "code",
      "source": [
        "from pyspark.ml.feature import VectorAssembler\n",
        "from pyspark.ml.clustering import KMeans\n",
        "\n",
        "# Chỉ lấy các cột số để làm input cho mô hình\n",
        "features = [\"Amount\"]\n",
        "assembler = VectorAssembler(inputCols=features, outputCol=\"features\")\n",
        "\n",
        "df_features = assembler.transform(df)\n",
        "\n",
        "# Hiển thị dữ liệu đã được vector hóa\n",
        "df_features.select(\"features\").show(truncate=False)\n"
      ],
      "metadata": {
        "colab": {
          "base_uri": "https://localhost:8080/"
        },
        "id": "LoqLfrY70GBT",
        "outputId": "16197238-c10b-4bcb-c956-5e31cf03a74b"
      },
      "execution_count": 12,
      "outputs": [
        {
          "output_type": "stream",
          "name": "stdout",
          "text": [
            "+---------+\n",
            "|features |\n",
            "+---------+\n",
            "|[50.0]   |\n",
            "|[5000.0] |\n",
            "|[30.0]   |\n",
            "|[7000.0] |\n",
            "|[90.0]   |\n",
            "|[12000.0]|\n",
            "|[4000.0] |\n",
            "|[80.0]   |\n",
            "|[200.0]  |\n",
            "|[6000.0] |\n",
            "+---------+\n",
            "\n"
          ]
        }
      ]
    },
    {
      "cell_type": "code",
      "source": [
        "# Áp dụng K-Means với 2 cụm (Giao dịch bình thường & Giao dịch đáng ngờ)\n",
        "kmeans = KMeans().setK(2).setSeed(1).setFeaturesCol(\"features\")\n",
        "model = kmeans.fit(df_features)\n",
        "\n",
        "# Dự đoán cụm cho từng giao dịch\n",
        "df_clustered = model.transform(df_features)\n",
        "\n",
        "# Hiển thị kết quả\n",
        "df_clustered.select(\"TransactionID\", \"Amount\", \"prediction\").show()\n"
      ],
      "metadata": {
        "colab": {
          "base_uri": "https://localhost:8080/"
        },
        "id": "_HDvsnXZ0fVm",
        "outputId": "7ce536de-2ca8-44e7-b277-63326c0465bc"
      },
      "execution_count": 13,
      "outputs": [
        {
          "output_type": "stream",
          "name": "stdout",
          "text": [
            "+-------------+------+----------+\n",
            "|TransactionID|Amount|prediction|\n",
            "+-------------+------+----------+\n",
            "|            1|    50|         1|\n",
            "|            2|  5000|         1|\n",
            "|            3|    30|         1|\n",
            "|            4|  7000|         1|\n",
            "|            5|    90|         1|\n",
            "|            6| 12000|         0|\n",
            "|            7|  4000|         1|\n",
            "|            8|    80|         1|\n",
            "|            9|   200|         1|\n",
            "|           10|  6000|         1|\n",
            "+-------------+------+----------+\n",
            "\n"
          ]
        }
      ]
    },
    {
      "cell_type": "code",
      "source": [
        "from pyspark.sql.functions import when\n",
        "\n",
        "df_flagged = df.withColumn(\"Fraud_Flag\",\n",
        "                           when(col(\"Amount\") > 5000, 1)\n",
        "                           .when(col(\"IP_Address\") == \"8.8.8.8\", 1)\n",
        "                           .otherwise(0))\n",
        "\n",
        "df_flagged.show()\n"
      ],
      "metadata": {
        "colab": {
          "base_uri": "https://localhost:8080/"
        },
        "id": "ChL_o4Ly0iae",
        "outputId": "74486093-7e19-4afb-e030-cd3b8cb8722d"
      },
      "execution_count": 14,
      "outputs": [
        {
          "output_type": "stream",
          "name": "stdout",
          "text": [
            "+-------------+------+-----------+-----------+-------------------+------------+----------+\n",
            "|TransactionID|Amount|   Location| IP_Address|          Timestamp|DeliveryType|Fraud_Flag|\n",
            "+-------------+------+-----------+-----------+-------------------+------------+----------+\n",
            "|            1|    50|   New York|192.168.1.1|2025-01-29 10:00:00|        Home|         0|\n",
            "|            2|  5000|Los Angeles|   10.0.0.2|2025-01-29 10:05:00|Store Pickup|         0|\n",
            "|            3|    30|   New York|192.168.1.1|2025-01-29 10:10:00|        Home|         0|\n",
            "|            4|  7000|      Texas|   10.0.0.3|2025-01-29 10:15:00|      PO Box|         1|\n",
            "|            5|    90|Los Angeles|   10.0.0.4|2025-01-29 10:20:00|        Home|         0|\n",
            "|            6| 12000|      Texas|   10.0.0.5|2025-01-29 10:25:00|Store Pickup|         1|\n",
            "|            7|  4000|    Chicago| 172.16.0.1|2025-01-29 10:30:00|        Home|         0|\n",
            "|            8|    80|    Chicago| 172.16.0.1|2025-01-29 10:35:00|        Home|         0|\n",
            "|            9|   200|      Miami|    8.8.8.8|2025-01-29 10:40:00|Store Pickup|         1|\n",
            "|           10|  6000|    Seattle|    8.8.4.4|2025-01-29 10:45:00|        Home|         1|\n",
            "+-------------+------+-----------+-----------+-------------------+------------+----------+\n",
            "\n"
          ]
        }
      ]
    },
    {
      "cell_type": "code",
      "source": [
        "from pyspark.ml.feature import StringIndexer\n",
        "\n",
        "# Chuyển đổi dữ liệu danh mục (Location, DeliveryType) thành dạng số\n",
        "indexer = StringIndexer(inputCols=[\"Location\", \"DeliveryType\"],\n",
        "                        outputCols=[\"LocationIndex\", \"DeliveryTypeIndex\"])\n",
        "df_indexed = indexer.fit(df_flagged).transform(df_flagged)\n"
      ],
      "metadata": {
        "id": "fmhlvicp0tPn"
      },
      "execution_count": 15,
      "outputs": []
    },
    {
      "cell_type": "code",
      "source": [
        "assembler = VectorAssembler(inputCols=[\"Amount\", \"LocationIndex\", \"DeliveryTypeIndex\"],\n",
        "                            outputCol=\"features\")\n",
        "df_ml = assembler.transform(df_indexed).select(\"features\", \"Fraud_Flag\")\n",
        "df_ml.show()\n"
      ],
      "metadata": {
        "colab": {
          "base_uri": "https://localhost:8080/"
        },
        "id": "_tm2qvJ60xg9",
        "outputId": "0ff9891b-d607-4517-b04c-553667147b24"
      },
      "execution_count": 16,
      "outputs": [
        {
          "output_type": "stream",
          "name": "stdout",
          "text": [
            "+-----------------+----------+\n",
            "|         features|Fraud_Flag|\n",
            "+-----------------+----------+\n",
            "|   [50.0,2.0,0.0]|         0|\n",
            "| [5000.0,1.0,1.0]|         0|\n",
            "|   [30.0,2.0,0.0]|         0|\n",
            "| [7000.0,3.0,2.0]|         1|\n",
            "|   [90.0,1.0,0.0]|         0|\n",
            "|[12000.0,3.0,1.0]|         1|\n",
            "| [4000.0,0.0,0.0]|         0|\n",
            "|   [80.0,0.0,0.0]|         0|\n",
            "|  [200.0,4.0,1.0]|         1|\n",
            "| [6000.0,5.0,0.0]|         1|\n",
            "+-----------------+----------+\n",
            "\n"
          ]
        }
      ]
    },
    {
      "cell_type": "code",
      "source": [
        "from pyspark.ml.classification import RandomForestClassifier\n",
        "from pyspark.ml.evaluation import BinaryClassificationEvaluator\n",
        "\n",
        "# Tạo mô hình Random Forest\n",
        "rf = RandomForestClassifier(labelCol=\"Fraud_Flag\", featuresCol=\"features\", numTrees=10)\n",
        "\n",
        "# Chia dữ liệu thành tập train và test\n",
        "train_data, test_data = df_ml.randomSplit([0.7, 0.3], seed=42)\n",
        "\n",
        "# Huấn luyện mô hình\n",
        "rf_model = rf.fit(train_data)\n",
        "\n",
        "# Dự đoán trên tập test\n",
        "predictions = rf_model.transform(test_data)\n",
        "\n",
        "# Đánh giá mô hình\n",
        "evaluator = BinaryClassificationEvaluator(labelCol=\"Fraud_Flag\")\n",
        "accuracy = evaluator.evaluate(predictions)\n",
        "print(f\"Accuracy: {accuracy}\")\n"
      ],
      "metadata": {
        "colab": {
          "base_uri": "https://localhost:8080/"
        },
        "id": "NBSl5wVO00Za",
        "outputId": "efdae05f-6172-4437-cbcd-a61ca4a66b95"
      },
      "execution_count": 17,
      "outputs": [
        {
          "output_type": "stream",
          "name": "stdout",
          "text": [
            "Accuracy: 0.0\n"
          ]
        }
      ]
    },
    {
      "cell_type": "code",
      "source": [
        "import matplotlib.pyplot as plt\n",
        "\n",
        "# Trích xuất dữ liệu từ DataFrame\n",
        "amounts = [row[\"Amount\"] for row in df.collect()]\n",
        "\n",
        "# Vẽ biểu đồ\n",
        "plt.hist(amounts, bins=10, edgecolor=\"black\")\n",
        "plt.xlabel(\"Transaction Amount\")\n",
        "plt.ylabel(\"Frequency\")\n",
        "plt.title(\"Distribution of Transaction Amounts\")\n",
        "plt.show()\n"
      ],
      "metadata": {
        "colab": {
          "base_uri": "https://localhost:8080/",
          "height": 472
        },
        "id": "H_hVa1JA03S-",
        "outputId": "18c312df-3eaf-4637-db42-a9bb5de8e230"
      },
      "execution_count": 18,
      "outputs": [
        {
          "output_type": "display_data",
          "data": {
            "text/plain": [
              "<Figure size 640x480 with 1 Axes>"
            ],
            "image/png": "[encoded data removed]"
          },
          "metadata": {}
        }
      ]
    },
    {
      "cell_type": "code",
      "source": [],
      "metadata": {
        "id": "NkMOrrfJ06OM"
      },
      "execution_count": null,
      "outputs": []
    }
  ]
}